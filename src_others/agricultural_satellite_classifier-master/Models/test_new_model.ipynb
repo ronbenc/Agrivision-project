{
  "nbformat": 4,
  "nbformat_minor": 0,
  "metadata": {
    "colab": {
      "name": "test_new_model.ipynb",
      "provenance": [],
      "collapsed_sections": [],
      "machine_shape": "hm",
      "include_colab_link": true
    },
    "kernelspec": {
      "name": "python3",
      "display_name": "Python 3"
    }
  },
  "cells": [
    {
      "cell_type": "markdown",
      "metadata": {
        "id": "view-in-github",
        "colab_type": "text"
      },
      "source": [
        "<a href=\"https://colab.research.google.com/github/dapsavoie/agricultural_satellite_classifier/blob/master/test_new_model.ipynb\" target=\"_parent\"><img src=\"https://colab.research.google.com/assets/colab-badge.svg\" alt=\"Open In Colab\"/></a>"
      ]
    },
    {
      "cell_type": "markdown",
      "metadata": {
        "id": "c1aDDWAy45HT",
        "colab_type": "text"
      },
      "source": [
        "# Load Data, Import Libraries"
      ]
    },
    {
      "cell_type": "code",
      "metadata": {
        "id": "3ze0OgSQ1ZvN",
        "colab_type": "code",
        "outputId": "9abc0805-73fa-4114-c7dd-d716d21a3401",
        "colab": {
          "base_uri": "https://localhost:8080/",
          "height": 35
        }
      },
      "source": [
        "from google.colab import drive\n",
        "drive.mount('/content/drive/')"
      ],
      "execution_count": 27,
      "outputs": [
        {
          "output_type": "stream",
          "text": [
            "Drive already mounted at /content/drive/; to attempt to forcibly remount, call drive.mount(\"/content/drive/\", force_remount=True).\n"
          ],
          "name": "stdout"
        }
      ]
    },
    {
      "cell_type": "code",
      "metadata": {
        "id": "O7iAKz6U7LBM",
        "colab_type": "code",
        "colab": {}
      },
      "source": [
        "model.save('jaccard_1_69.5%.h5')"
      ],
      "execution_count": 0,
      "outputs": []
    },
    {
      "cell_type": "code",
      "metadata": {
        "id": "lcl1ZjmFSUBg",
        "colab_type": "code",
        "colab": {}
      },
      "source": [
        "import keras\n",
        "from keras.models import Sequential\n",
        "from keras.layers import Dense, Dropout, Flatten\n",
        "from keras.layers import Conv2D, MaxPooling2D\n",
        "from keras.preprocessing import image\n",
        "import pandas as pd\n",
        "from sklearn.model_selection import train_test_split\n",
        "from tqdm import tqdm\n",
        "%matplotlib inline\n",
        "\n",
        "import os\n",
        "\n",
        "import tensorflow as tf\n",
        "\n",
        "import pandas as pd\n",
        "\n",
        "import numpy as np\n",
        "# save numpy array as npy file\n",
        "from numpy import asarray\n",
        "from numpy import save"
      ],
      "execution_count": 0,
      "outputs": []
    },
    {
      "cell_type": "code",
      "metadata": {
        "id": "Et-Pr6jB2eQF",
        "colab_type": "code",
        "colab": {}
      },
      "source": [
        "model.save('jaccard_1_69.5%.h5')"
      ],
      "execution_count": 0,
      "outputs": []
    },
    {
      "cell_type": "code",
      "metadata": {
        "id": "rrEb2eaIR32i",
        "colab_type": "code",
        "colab": {}
      },
      "source": [
        " # display file "
      ],
      "execution_count": 0,
      "outputs": []
    },
    {
      "cell_type": "code",
      "metadata": {
        "id": "JleL68dFR4DH",
        "colab_type": "code",
        "colab": {}
      },
      "source": [
        "#!tar -xvf '/content/drive/My Drive/Agriculture-Vision.tar (1).gz' -C '/content/drive/My Drive/agri_vision/'"
      ],
      "execution_count": 0,
      "outputs": []
    },
    {
      "cell_type": "code",
      "metadata": {
        "colab_type": "code",
        "id": "vz-jH8T_Uk2c",
        "colab": {}
      },
      "source": [
        "#load csv, train, val\n",
        "\n",
        "base_dir =  '/content/drive/My Drive/agri_vision/'\n",
        "train_folder = os.path.join(base_dir+ 'Agriculture-Vision/train/images/rgb')\n",
        "\n",
        "val_folder = os.path.join(base_dir +'Agriculture-Vision/val/rgb/')\n",
        "\n",
        "\n",
        "test_folder = os.path.join(base_dir + '/Agriculture-Vision/test/test_rgb/')\n",
        "\n",
        "\n",
        "train = pd.read_csv('/content/drive/My Drive/agri_vision/final_encoded.csv')\n",
        "\n",
        "#strip train index\n",
        "train['index'] = train['index'].str.rstrip('.png')"
      ],
      "execution_count": 0,
      "outputs": []
    },
    {
      "cell_type": "code",
      "metadata": {
        "id": "MkTDuwRMWTPO",
        "colab_type": "code",
        "colab": {}
      },
      "source": [
        "train.drop(columns='Unnamed: 0', inplace=True)"
      ],
      "execution_count": 0,
      "outputs": []
    },
    {
      "cell_type": "code",
      "metadata": {
        "id": "ndzBSwlv31rF",
        "colab_type": "code",
        "colab": {}
      },
      "source": [
        "train_2k = train.loc[0:1999]"
      ],
      "execution_count": 0,
      "outputs": []
    },
    {
      "cell_type": "code",
      "metadata": {
        "id": "tsBPwCNS7Veh",
        "colab_type": "code",
        "outputId": "7d3c5f7f-b258-4087-e090-3f5c0f23adc0",
        "colab": {
          "base_uri": "https://localhost:8080/",
          "height": 399
        }
      },
      "source": [
        "train_2k"
      ],
      "execution_count": 34,
      "outputs": [
        {
          "output_type": "execute_result",
          "data": {
            "text/html": [
              "<div>\n",
              "<style scoped>\n",
              "    .dataframe tbody tr th:only-of-type {\n",
              "        vertical-align: middle;\n",
              "    }\n",
              "\n",
              "    .dataframe tbody tr th {\n",
              "        vertical-align: top;\n",
              "    }\n",
              "\n",
              "    .dataframe thead th {\n",
              "        text-align: right;\n",
              "    }\n",
              "</style>\n",
              "<table border=\"1\" class=\"dataframe\">\n",
              "  <thead>\n",
              "    <tr style=\"text-align: right;\">\n",
              "      <th></th>\n",
              "      <th>index</th>\n",
              "      <th>cloud_shadow</th>\n",
              "      <th>double_planter</th>\n",
              "      <th>planter_skip</th>\n",
              "      <th>standing_water</th>\n",
              "      <th>waterway</th>\n",
              "      <th>weed_cluster</th>\n",
              "    </tr>\n",
              "  </thead>\n",
              "  <tbody>\n",
              "    <tr>\n",
              "      <th>0</th>\n",
              "      <td>11T3V93AF_2280-3416-2792-3928</td>\n",
              "      <td>0</td>\n",
              "      <td>0</td>\n",
              "      <td>0</td>\n",
              "      <td>0</td>\n",
              "      <td>1</td>\n",
              "      <td>0</td>\n",
              "    </tr>\n",
              "    <tr>\n",
              "      <th>1</th>\n",
              "      <td>11T3V93AF_2373-2788-2885-3300</td>\n",
              "      <td>0</td>\n",
              "      <td>0</td>\n",
              "      <td>0</td>\n",
              "      <td>0</td>\n",
              "      <td>1</td>\n",
              "      <td>0</td>\n",
              "    </tr>\n",
              "    <tr>\n",
              "      <th>2</th>\n",
              "      <td>11T3V93AF_2721-2503-3233-3015</td>\n",
              "      <td>0</td>\n",
              "      <td>0</td>\n",
              "      <td>0</td>\n",
              "      <td>0</td>\n",
              "      <td>1</td>\n",
              "      <td>0</td>\n",
              "    </tr>\n",
              "    <tr>\n",
              "      <th>3</th>\n",
              "      <td>11T3V93AF_3083-3751-3595-4263</td>\n",
              "      <td>0</td>\n",
              "      <td>0</td>\n",
              "      <td>0</td>\n",
              "      <td>0</td>\n",
              "      <td>1</td>\n",
              "      <td>0</td>\n",
              "    </tr>\n",
              "    <tr>\n",
              "      <th>4</th>\n",
              "      <td>11T3V93AF_3877-4192-4389-4704</td>\n",
              "      <td>0</td>\n",
              "      <td>0</td>\n",
              "      <td>0</td>\n",
              "      <td>0</td>\n",
              "      <td>1</td>\n",
              "      <td>0</td>\n",
              "    </tr>\n",
              "    <tr>\n",
              "      <th>...</th>\n",
              "      <td>...</td>\n",
              "      <td>...</td>\n",
              "      <td>...</td>\n",
              "      <td>...</td>\n",
              "      <td>...</td>\n",
              "      <td>...</td>\n",
              "      <td>...</td>\n",
              "    </tr>\n",
              "    <tr>\n",
              "      <th>1995</th>\n",
              "      <td>7EMEVA1HK_4493-6700-5005-7212</td>\n",
              "      <td>0</td>\n",
              "      <td>0</td>\n",
              "      <td>0</td>\n",
              "      <td>0</td>\n",
              "      <td>1</td>\n",
              "      <td>1</td>\n",
              "    </tr>\n",
              "    <tr>\n",
              "      <th>1996</th>\n",
              "      <td>7EMEVA1HK_4655-2753-5167-3265</td>\n",
              "      <td>0</td>\n",
              "      <td>0</td>\n",
              "      <td>0</td>\n",
              "      <td>0</td>\n",
              "      <td>1</td>\n",
              "      <td>0</td>\n",
              "    </tr>\n",
              "    <tr>\n",
              "      <th>1997</th>\n",
              "      <td>7EMEVA1HK_4655-3265-5167-3777</td>\n",
              "      <td>0</td>\n",
              "      <td>0</td>\n",
              "      <td>0</td>\n",
              "      <td>0</td>\n",
              "      <td>1</td>\n",
              "      <td>0</td>\n",
              "    </tr>\n",
              "    <tr>\n",
              "      <th>1998</th>\n",
              "      <td>7EMEVA1HK_4979-3685-5491-4197</td>\n",
              "      <td>0</td>\n",
              "      <td>0</td>\n",
              "      <td>0</td>\n",
              "      <td>0</td>\n",
              "      <td>1</td>\n",
              "      <td>0</td>\n",
              "    </tr>\n",
              "    <tr>\n",
              "      <th>1999</th>\n",
              "      <td>7EMEVA1HK_4979-4197-5491-4709</td>\n",
              "      <td>0</td>\n",
              "      <td>0</td>\n",
              "      <td>0</td>\n",
              "      <td>0</td>\n",
              "      <td>1</td>\n",
              "      <td>0</td>\n",
              "    </tr>\n",
              "  </tbody>\n",
              "</table>\n",
              "<p>2000 rows × 7 columns</p>\n",
              "</div>"
            ],
            "text/plain": [
              "                              index  cloud_shadow  ...  waterway  weed_cluster\n",
              "0     11T3V93AF_2280-3416-2792-3928             0  ...         1             0\n",
              "1     11T3V93AF_2373-2788-2885-3300             0  ...         1             0\n",
              "2     11T3V93AF_2721-2503-3233-3015             0  ...         1             0\n",
              "3     11T3V93AF_3083-3751-3595-4263             0  ...         1             0\n",
              "4     11T3V93AF_3877-4192-4389-4704             0  ...         1             0\n",
              "...                             ...           ...  ...       ...           ...\n",
              "1995  7EMEVA1HK_4493-6700-5005-7212             0  ...         1             1\n",
              "1996  7EMEVA1HK_4655-2753-5167-3265             0  ...         1             0\n",
              "1997  7EMEVA1HK_4655-3265-5167-3777             0  ...         1             0\n",
              "1998  7EMEVA1HK_4979-3685-5491-4197             0  ...         1             0\n",
              "1999  7EMEVA1HK_4979-4197-5491-4709             0  ...         1             0\n",
              "\n",
              "[2000 rows x 7 columns]"
            ]
          },
          "metadata": {
            "tags": []
          },
          "execution_count": 34
        }
      ]
    },
    {
      "cell_type": "markdown",
      "metadata": {
        "id": "mP5Rs-_q5A9l",
        "colab_type": "text"
      },
      "source": [
        "# Create Train and Val Images"
      ]
    },
    {
      "cell_type": "code",
      "metadata": {
        "id": "13TDjrUDBbqW",
        "colab_type": "code",
        "colab": {}
      },
      "source": [
        "# Load 2000 imag"
      ],
      "execution_count": 0,
      "outputs": []
    },
    {
      "cell_type": "code",
      "metadata": {
        "id": "CIQXUfnhBij1",
        "colab_type": "code",
        "outputId": "0cc70671-41a1-4f5a-b316-13c5fea26ff3",
        "colab": {
          "base_uri": "https://localhost:8080/",
          "height": 1000
        }
      },
      "source": [
        "!!!!train_image = []\n",
        "for i in tqdm(range(2000)):\n",
        "    img = image.load_img('/content/drive/My Drive/agri_vision/Agriculture-Vision/train/images/rgb/' + train_2k['index'][i] + '.jpg', color_mode='rgb', target_size=None)\n",
        "    img = image.img_to_array(img)\n",
        "    train_image.append(img)"
      ],
      "execution_count": 36,
      "outputs": [
        {
          "output_type": "stream",
          "text": [
            "\n",
            "  0%|          | 0/2000 [00:00<?, ?it/s]\u001b[A\n",
            "  0%|          | 6/2000 [00:00<00:40, 49.60it/s]\u001b[A\n",
            "  1%|          | 14/2000 [00:00<00:36, 54.91it/s]\u001b[A\n",
            "  1%|          | 23/2000 [00:00<00:31, 62.17it/s]\u001b[A\n",
            "  2%|▏         | 32/2000 [00:00<00:28, 68.13it/s]\u001b[A\n",
            "  2%|▏         | 42/2000 [00:00<00:26, 74.06it/s]\u001b[A\n",
            "  3%|▎         | 52/2000 [00:00<00:24, 78.92it/s]\u001b[A\n",
            "  3%|▎         | 62/2000 [00:00<00:23, 82.71it/s]\u001b[A\n",
            "  4%|▎         | 72/2000 [00:00<00:22, 85.12it/s]\u001b[A\n",
            "  4%|▍         | 82/2000 [00:00<00:22, 87.15it/s]\u001b[A\n",
            "  5%|▍         | 92/2000 [00:01<00:21, 88.48it/s]\u001b[A\n",
            "  5%|▌         | 102/2000 [00:01<00:21, 89.10it/s]\u001b[A\n",
            "  6%|▌         | 112/2000 [00:01<00:21, 89.61it/s]\u001b[A\n",
            "  6%|▌         | 121/2000 [00:01<00:21, 88.58it/s]\u001b[A\n",
            "  6%|▋         | 130/2000 [00:01<00:21, 88.47it/s]\u001b[A\n",
            "  7%|▋         | 140/2000 [00:01<00:20, 90.25it/s]\u001b[A\n",
            "  8%|▊         | 150/2000 [00:01<00:20, 88.31it/s]\u001b[A\n",
            "  8%|▊         | 159/2000 [00:01<00:21, 86.68it/s]\u001b[A\n",
            "  8%|▊         | 168/2000 [00:01<00:21, 86.13it/s]\u001b[A\n",
            "  9%|▉         | 177/2000 [00:02<00:21, 85.92it/s]\u001b[A\n",
            "  9%|▉         | 186/2000 [00:02<00:21, 85.80it/s]\u001b[A\n",
            " 10%|▉         | 195/2000 [00:02<00:21, 84.98it/s]\u001b[A\n",
            " 10%|█         | 205/2000 [00:02<00:20, 87.35it/s]\u001b[A\n",
            " 11%|█         | 215/2000 [00:02<00:19, 89.60it/s]\u001b[A\n",
            " 11%|█▏        | 225/2000 [00:02<00:19, 91.35it/s]\u001b[A\n",
            " 12%|█▏        | 235/2000 [00:02<00:19, 91.92it/s]\u001b[A\n",
            " 12%|█▏        | 245/2000 [00:02<00:20, 84.98it/s]\u001b[A\n",
            " 13%|█▎        | 254/2000 [00:03<00:24, 70.39it/s]\u001b[A\n",
            " 13%|█▎        | 262/2000 [00:03<00:28, 61.68it/s]\u001b[A\n",
            " 13%|█▎        | 269/2000 [00:03<00:29, 58.05it/s]\u001b[A\n",
            " 14%|█▍        | 276/2000 [00:03<00:31, 55.37it/s]\u001b[A\n",
            " 14%|█▍        | 282/2000 [00:03<00:31, 54.12it/s]\u001b[A\n",
            " 14%|█▍        | 288/2000 [00:03<00:31, 54.15it/s]\u001b[A\n",
            " 15%|█▍        | 294/2000 [00:03<00:32, 51.83it/s]\u001b[A\n",
            " 15%|█▌        | 300/2000 [00:03<00:33, 51.15it/s]\u001b[A\n",
            " 15%|█▌        | 306/2000 [00:04<00:34, 49.51it/s]\u001b[A\n",
            " 16%|█▌        | 312/2000 [00:04<00:34, 49.43it/s]\u001b[A\n",
            " 16%|█▌        | 317/2000 [00:04<00:34, 48.76it/s]\u001b[A\n",
            " 16%|█▌        | 322/2000 [00:04<00:35, 47.84it/s]\u001b[A\n",
            " 16%|█▋        | 327/2000 [00:04<00:35, 46.66it/s]\u001b[A\n",
            " 17%|█▋        | 332/2000 [00:04<00:36, 45.95it/s]\u001b[A\n",
            " 17%|█▋        | 337/2000 [00:04<00:36, 45.63it/s]\u001b[A\n",
            " 17%|█▋        | 342/2000 [00:04<00:36, 45.16it/s]\u001b[A\n",
            " 17%|█▋        | 347/2000 [00:04<00:36, 45.31it/s]\u001b[A\n",
            " 18%|█▊        | 353/2000 [00:05<00:35, 46.71it/s]\u001b[A\n",
            " 18%|█▊        | 358/2000 [00:05<00:35, 46.79it/s]\u001b[A\n",
            " 18%|█▊        | 363/2000 [00:05<00:35, 46.36it/s]\u001b[A\n",
            " 18%|█▊        | 369/2000 [00:05<00:34, 47.37it/s]\u001b[A\n",
            " 19%|█▊        | 374/2000 [00:05<00:34, 47.64it/s]\u001b[A\n",
            " 19%|█▉        | 379/2000 [00:05<00:33, 47.70it/s]\u001b[A\n",
            " 19%|█▉        | 384/2000 [00:05<00:34, 47.52it/s]\u001b[A\n",
            " 19%|█▉        | 389/2000 [00:05<00:33, 47.51it/s]\u001b[A\n",
            " 20%|█▉        | 394/2000 [00:05<00:34, 47.23it/s]\u001b[A\n",
            " 20%|█▉        | 399/2000 [00:06<00:33, 47.11it/s]\u001b[A\n",
            " 20%|██        | 404/2000 [00:06<00:34, 46.45it/s]\u001b[A\n",
            " 20%|██        | 409/2000 [00:06<00:34, 46.44it/s]\u001b[A\n",
            " 21%|██        | 414/2000 [00:06<00:34, 46.15it/s]\u001b[A\n",
            " 21%|██        | 419/2000 [00:06<00:34, 46.19it/s]\u001b[A\n",
            " 21%|██        | 424/2000 [00:06<00:34, 45.90it/s]\u001b[A\n",
            " 21%|██▏       | 429/2000 [00:06<00:34, 44.92it/s]\u001b[A\n",
            " 22%|██▏       | 434/2000 [00:06<00:35, 44.52it/s]\u001b[A\n",
            " 22%|██▏       | 439/2000 [00:06<00:34, 44.67it/s]\u001b[A\n",
            " 22%|██▏       | 444/2000 [00:07<00:34, 45.23it/s]\u001b[A\n",
            " 22%|██▏       | 449/2000 [00:07<00:34, 45.04it/s]\u001b[A\n",
            " 23%|██▎       | 454/2000 [00:07<00:34, 45.37it/s]\u001b[A\n",
            " 23%|██▎       | 459/2000 [00:07<00:33, 45.39it/s]\u001b[A\n",
            " 23%|██▎       | 464/2000 [00:07<00:33, 45.19it/s]\u001b[A\n",
            " 23%|██▎       | 469/2000 [00:07<00:34, 44.69it/s]\u001b[A\n",
            " 24%|██▎       | 474/2000 [00:07<00:33, 45.07it/s]\u001b[A\n",
            " 24%|██▍       | 479/2000 [00:07<00:33, 45.09it/s]\u001b[A\n",
            " 24%|██▍       | 484/2000 [00:07<00:34, 43.59it/s]\u001b[A\n",
            " 24%|██▍       | 489/2000 [00:08<00:34, 43.95it/s]\u001b[A\n",
            " 25%|██▍       | 494/2000 [00:08<00:34, 44.19it/s]\u001b[A\n",
            " 25%|██▍       | 499/2000 [00:08<00:33, 45.30it/s]\u001b[A\n",
            " 25%|██▌       | 504/2000 [00:08<00:33, 45.09it/s]\u001b[A\n",
            " 25%|██▌       | 509/2000 [00:08<00:33, 44.63it/s]\u001b[A\n",
            " 26%|██▌       | 514/2000 [00:08<00:33, 44.88it/s]\u001b[A\n",
            " 26%|██▌       | 519/2000 [00:08<00:31, 46.28it/s]\u001b[A\n",
            " 26%|██▋       | 525/2000 [00:08<00:31, 47.25it/s]\u001b[A\n",
            " 26%|██▋       | 530/2000 [00:08<00:32, 45.88it/s]\u001b[A\n",
            " 27%|██▋       | 535/2000 [00:09<00:31, 46.01it/s]\u001b[A\n",
            " 27%|██▋       | 540/2000 [00:09<00:31, 46.71it/s]\u001b[A\n",
            " 27%|██▋       | 545/2000 [00:09<00:31, 46.43it/s]\u001b[A\n",
            " 28%|██▊       | 550/2000 [00:09<00:31, 46.33it/s]\u001b[A\n",
            " 28%|██▊       | 555/2000 [00:09<00:31, 45.63it/s]\u001b[A\n",
            " 28%|██▊       | 560/2000 [00:09<00:31, 45.04it/s]\u001b[A\n",
            " 28%|██▊       | 565/2000 [00:09<00:32, 44.63it/s]\u001b[A\n",
            " 28%|██▊       | 570/2000 [00:09<00:32, 44.45it/s]\u001b[A\n",
            " 29%|██▉       | 575/2000 [00:09<00:32, 44.03it/s]\u001b[A\n",
            " 29%|██▉       | 580/2000 [00:10<00:31, 44.45it/s]\u001b[A\n",
            " 29%|██▉       | 585/2000 [00:10<00:32, 43.91it/s]\u001b[A\n",
            " 30%|██▉       | 590/2000 [00:10<00:32, 43.92it/s]\u001b[A\n",
            " 30%|██▉       | 595/2000 [00:10<00:31, 43.93it/s]\u001b[A\n",
            " 30%|███       | 600/2000 [00:10<00:31, 44.17it/s]\u001b[A\n",
            " 30%|███       | 605/2000 [00:10<00:31, 44.96it/s]\u001b[A\n",
            " 30%|███       | 610/2000 [00:10<00:31, 44.79it/s]\u001b[A\n",
            " 31%|███       | 615/2000 [00:10<00:31, 43.67it/s]\u001b[A\n",
            " 31%|███       | 620/2000 [00:10<00:31, 43.35it/s]\u001b[A\n",
            " 31%|███▏      | 625/2000 [00:11<00:32, 42.65it/s]\u001b[A\n",
            " 32%|███▏      | 630/2000 [00:11<00:32, 41.83it/s]\u001b[A\n",
            " 32%|███▏      | 635/2000 [00:11<00:33, 41.17it/s]\u001b[A\n",
            " 32%|███▏      | 640/2000 [00:11<00:33, 40.91it/s]\u001b[A\n",
            " 32%|███▏      | 645/2000 [00:11<00:32, 41.20it/s]\u001b[A\n",
            " 32%|███▎      | 650/2000 [00:11<00:32, 41.82it/s]\u001b[A\n",
            " 33%|███▎      | 655/2000 [00:11<00:32, 41.92it/s]\u001b[A\n",
            " 33%|███▎      | 660/2000 [00:11<00:32, 41.72it/s]\u001b[A\n",
            " 33%|███▎      | 665/2000 [00:12<00:31, 42.02it/s]\u001b[A\n",
            " 34%|███▎      | 670/2000 [00:12<00:31, 41.68it/s]\u001b[A\n",
            " 34%|███▍      | 675/2000 [00:12<00:31, 42.07it/s]\u001b[A\n",
            " 34%|███▍      | 682/2000 [00:12<00:28, 46.28it/s]\u001b[A\n",
            " 34%|███▍      | 687/2000 [00:12<00:28, 45.39it/s]\u001b[A\n",
            " 35%|███▍      | 692/2000 [00:12<00:29, 44.28it/s]\u001b[A\n",
            " 35%|███▍      | 697/2000 [00:12<00:29, 44.67it/s]\u001b[A\n",
            " 35%|███▌      | 702/2000 [00:12<00:29, 43.75it/s]\u001b[A\n",
            " 35%|███▌      | 707/2000 [00:12<00:29, 44.44it/s]\u001b[A\n",
            " 36%|███▌      | 714/2000 [00:13<00:26, 49.33it/s]\u001b[A\n",
            " 36%|███▌      | 720/2000 [00:13<00:25, 50.79it/s]\u001b[A\n",
            " 36%|███▋      | 726/2000 [00:13<00:26, 48.97it/s]\u001b[A\n",
            " 37%|███▋      | 732/2000 [00:13<00:26, 47.17it/s]\u001b[A\n",
            " 37%|███▋      | 737/2000 [00:13<00:27, 46.55it/s]\u001b[A\n",
            " 37%|███▋      | 742/2000 [00:13<00:27, 45.87it/s]\u001b[A\n",
            " 37%|███▋      | 747/2000 [00:13<00:27, 45.72it/s]\u001b[A\n",
            " 38%|███▊      | 752/2000 [00:13<00:27, 44.69it/s]\u001b[A\n",
            " 38%|███▊      | 757/2000 [00:14<00:28, 43.92it/s]\u001b[A\n",
            " 38%|███▊      | 762/2000 [00:14<00:28, 44.05it/s]\u001b[A\n",
            " 38%|███▊      | 767/2000 [00:14<00:27, 44.84it/s]\u001b[A\n",
            " 39%|███▊      | 773/2000 [00:14<00:26, 46.23it/s]\u001b[A\n",
            " 39%|███▉      | 778/2000 [00:14<00:26, 45.51it/s]\u001b[A\n",
            " 39%|███▉      | 783/2000 [00:14<00:27, 45.03it/s]\u001b[A\n",
            " 39%|███▉      | 788/2000 [00:14<00:26, 45.32it/s]\u001b[A\n",
            " 40%|███▉      | 793/2000 [00:14<00:27, 44.53it/s]\u001b[A\n",
            " 40%|███▉      | 798/2000 [00:14<00:26, 45.79it/s]\u001b[A\n",
            " 40%|████      | 805/2000 [00:15<00:23, 50.98it/s]\u001b[A\n",
            " 41%|████      | 813/2000 [00:15<00:20, 56.71it/s]\u001b[A\n",
            " 41%|████      | 821/2000 [00:15<00:19, 60.46it/s]\u001b[A\n",
            " 41%|████▏     | 829/2000 [00:15<00:18, 63.55it/s]\u001b[A\n",
            " 42%|████▏     | 837/2000 [00:15<00:17, 66.29it/s]\u001b[A\n",
            " 42%|████▏     | 845/2000 [00:15<00:16, 68.14it/s]\u001b[A\n",
            " 43%|████▎     | 853/2000 [00:15<00:16, 70.21it/s]\u001b[A\n",
            " 43%|████▎     | 861/2000 [00:15<00:15, 72.07it/s]\u001b[A\n",
            " 43%|████▎     | 869/2000 [00:15<00:15, 71.51it/s]\u001b[A\n",
            " 44%|████▍     | 877/2000 [00:16<00:15, 70.75it/s]\u001b[A\n",
            " 44%|████▍     | 885/2000 [00:16<00:15, 71.11it/s]\u001b[A\n",
            " 45%|████▍     | 893/2000 [00:16<00:15, 71.84it/s]\u001b[A\n",
            " 45%|████▌     | 901/2000 [00:16<00:15, 71.53it/s]\u001b[A\n",
            " 45%|████▌     | 909/2000 [00:16<00:14, 73.19it/s]\u001b[A\n",
            " 46%|████▌     | 917/2000 [00:16<00:14, 73.89it/s]\u001b[A\n",
            " 46%|████▋     | 925/2000 [00:16<00:14, 74.05it/s]\u001b[A\n",
            " 47%|████▋     | 933/2000 [00:16<00:14, 73.18it/s]\u001b[A\n",
            " 47%|████▋     | 941/2000 [00:16<00:14, 72.71it/s]\u001b[A\n",
            " 47%|████▋     | 949/2000 [00:17<00:14, 73.26it/s]\u001b[A\n",
            " 48%|████▊     | 957/2000 [00:17<00:14, 73.88it/s]\u001b[A\n",
            " 48%|████▊     | 965/2000 [00:17<00:13, 74.84it/s]\u001b[A\n",
            " 49%|████▊     | 973/2000 [00:17<00:13, 75.17it/s]\u001b[A\n",
            " 49%|████▉     | 982/2000 [00:17<00:13, 77.16it/s]\u001b[A\n",
            " 50%|████▉     | 990/2000 [00:17<00:13, 77.40it/s]\u001b[A\n",
            " 50%|████▉     | 998/2000 [00:17<00:12, 77.73it/s]\u001b[A\n",
            " 50%|█████     | 1007/2000 [00:17<00:12, 78.64it/s]\u001b[A\n",
            " 51%|█████     | 1015/2000 [00:17<00:12, 78.30it/s]\u001b[A\n",
            " 51%|█████     | 1023/2000 [00:17<00:12, 76.36it/s]\u001b[A\n",
            " 52%|█████▏    | 1031/2000 [00:18<00:13, 74.16it/s]\u001b[A\n",
            " 52%|█████▏    | 1039/2000 [00:18<00:12, 74.57it/s]\u001b[A\n",
            " 52%|█████▏    | 1047/2000 [00:18<00:12, 73.58it/s]\u001b[A\n",
            " 53%|█████▎    | 1055/2000 [00:18<00:13, 71.25it/s]\u001b[A\n",
            " 53%|█████▎    | 1063/2000 [00:18<00:13, 71.26it/s]\u001b[A\n",
            " 54%|█████▎    | 1071/2000 [00:18<00:13, 71.24it/s]\u001b[A\n",
            " 54%|█████▍    | 1079/2000 [00:18<00:12, 72.37it/s]\u001b[A\n",
            " 54%|█████▍    | 1087/2000 [00:18<00:12, 73.08it/s]\u001b[A\n",
            " 55%|█████▍    | 1095/2000 [00:18<00:12, 73.68it/s]\u001b[A\n",
            " 55%|█████▌    | 1103/2000 [00:19<00:11, 74.79it/s]\u001b[A\n",
            " 56%|█████▌    | 1111/2000 [00:19<00:11, 75.23it/s]\u001b[A\n",
            " 56%|█████▌    | 1119/2000 [00:19<00:11, 74.90it/s]\u001b[A\n",
            " 56%|█████▋    | 1127/2000 [00:19<00:11, 75.29it/s]\u001b[A\n",
            " 57%|█████▋    | 1136/2000 [00:19<00:11, 77.10it/s]\u001b[A\n",
            " 57%|█████▋    | 1145/2000 [00:19<00:10, 80.25it/s]\u001b[A\n",
            " 58%|█████▊    | 1154/2000 [00:19<00:10, 81.69it/s]\u001b[A\n",
            " 58%|█████▊    | 1163/2000 [00:19<00:10, 81.68it/s]\u001b[A\n",
            " 59%|█████▊    | 1172/2000 [00:19<00:10, 81.92it/s]\u001b[A\n",
            " 59%|█████▉    | 1181/2000 [00:20<00:10, 81.46it/s]\u001b[A\n",
            " 60%|█████▉    | 1190/2000 [00:20<00:10, 78.36it/s]\u001b[A\n",
            " 60%|█████▉    | 1199/2000 [00:20<00:09, 80.22it/s]\u001b[A\n",
            " 60%|██████    | 1208/2000 [00:20<00:10, 78.16it/s]\u001b[A\n",
            " 61%|██████    | 1216/2000 [00:20<00:10, 76.32it/s]\u001b[A\n",
            " 61%|██████    | 1224/2000 [00:20<00:10, 75.28it/s]\u001b[A\n",
            " 62%|██████▏   | 1232/2000 [00:20<00:10, 76.15it/s]\u001b[A\n",
            " 62%|██████▏   | 1240/2000 [00:20<00:09, 76.46it/s]\u001b[A\n",
            " 62%|██████▏   | 1248/2000 [00:20<00:09, 76.63it/s]\u001b[A\n",
            " 63%|██████▎   | 1256/2000 [00:21<00:09, 76.97it/s]\u001b[A\n",
            " 63%|██████▎   | 1264/2000 [00:21<00:09, 77.07it/s]\u001b[A\n",
            " 64%|██████▎   | 1273/2000 [00:21<00:09, 78.15it/s]\u001b[A\n",
            " 64%|██████▍   | 1282/2000 [00:21<00:09, 79.12it/s]\u001b[A\n",
            " 64%|██████▍   | 1290/2000 [00:21<00:09, 78.32it/s]\u001b[A\n",
            " 65%|██████▍   | 1298/2000 [00:21<00:08, 78.23it/s]\u001b[A\n",
            " 65%|██████▌   | 1306/2000 [00:21<00:08, 78.00it/s]\u001b[A\n",
            " 66%|██████▌   | 1314/2000 [00:21<00:08, 77.68it/s]\u001b[A\n",
            " 66%|██████▌   | 1322/2000 [00:21<00:08, 77.39it/s]\u001b[A\n",
            " 66%|██████▋   | 1330/2000 [00:21<00:08, 76.64it/s]\u001b[A\n",
            " 67%|██████▋   | 1338/2000 [00:22<00:08, 75.35it/s]\u001b[A\n",
            " 67%|██████▋   | 1346/2000 [00:22<00:08, 73.08it/s]\u001b[A\n",
            " 68%|██████▊   | 1354/2000 [00:22<00:08, 73.70it/s]\u001b[A\n",
            " 68%|██████▊   | 1362/2000 [00:22<00:08, 73.12it/s]\u001b[A\n",
            " 68%|██████▊   | 1370/2000 [00:22<00:08, 73.39it/s]\u001b[A\n",
            " 69%|██████▉   | 1378/2000 [00:22<00:08, 74.87it/s]\u001b[A\n",
            " 69%|██████▉   | 1386/2000 [00:22<00:08, 74.21it/s]\u001b[A\n",
            " 70%|██████▉   | 1394/2000 [00:22<00:08, 73.58it/s]\u001b[A\n",
            " 70%|███████   | 1402/2000 [00:22<00:08, 74.32it/s]\u001b[A\n",
            " 70%|███████   | 1410/2000 [00:23<00:07, 74.79it/s]\u001b[A\n",
            " 71%|███████   | 1418/2000 [00:23<00:07, 75.46it/s]\u001b[A\n",
            " 71%|███████▏  | 1426/2000 [00:23<00:07, 74.60it/s]\u001b[A\n",
            " 72%|███████▏  | 1434/2000 [00:23<00:07, 74.67it/s]\u001b[A\n",
            " 72%|███████▏  | 1442/2000 [00:23<00:07, 74.84it/s]\u001b[A\n",
            " 72%|███████▎  | 1450/2000 [00:23<00:07, 75.20it/s]\u001b[A\n",
            " 73%|███████▎  | 1458/2000 [00:23<00:07, 75.72it/s]\u001b[A\n",
            " 73%|███████▎  | 1467/2000 [00:23<00:06, 77.76it/s]\u001b[A\n",
            " 74%|███████▍  | 1475/2000 [00:23<00:06, 77.81it/s]\u001b[A\n",
            " 74%|███████▍  | 1484/2000 [00:24<00:06, 78.71it/s]\u001b[A\n",
            " 75%|███████▍  | 1492/2000 [00:24<00:06, 78.16it/s]\u001b[A\n",
            " 75%|███████▌  | 1500/2000 [00:24<00:06, 77.00it/s]\u001b[A\n",
            " 75%|███████▌  | 1508/2000 [00:24<00:06, 76.88it/s]\u001b[A\n",
            " 76%|███████▌  | 1516/2000 [00:24<00:06, 76.68it/s]\u001b[A\n",
            " 76%|███████▋  | 1525/2000 [00:24<00:06, 78.06it/s]\u001b[A\n",
            " 77%|███████▋  | 1533/2000 [00:24<00:05, 78.27it/s]\u001b[A\n",
            " 77%|███████▋  | 1541/2000 [00:24<00:05, 77.62it/s]\u001b[A\n",
            " 77%|███████▋  | 1549/2000 [00:24<00:05, 77.37it/s]\u001b[A\n",
            " 78%|███████▊  | 1557/2000 [00:24<00:05, 76.32it/s]\u001b[A\n",
            " 78%|███████▊  | 1565/2000 [00:25<00:05, 75.02it/s]\u001b[A\n",
            " 79%|███████▊  | 1573/2000 [00:25<00:05, 75.06it/s]\u001b[A\n",
            " 79%|███████▉  | 1581/2000 [00:25<00:05, 76.45it/s]\u001b[A\n",
            " 79%|███████▉  | 1589/2000 [00:25<00:05, 77.25it/s]\u001b[A\n",
            " 80%|███████▉  | 1597/2000 [00:25<00:05, 77.72it/s]\u001b[A\n",
            " 80%|████████  | 1606/2000 [00:25<00:05, 78.62it/s]\u001b[A\n",
            " 81%|████████  | 1614/2000 [00:25<00:04, 77.81it/s]\u001b[A\n",
            " 81%|████████  | 1622/2000 [00:25<00:04, 78.33it/s]\u001b[A\n",
            " 82%|████████▏ | 1631/2000 [00:25<00:04, 79.56it/s]\u001b[A\n",
            " 82%|████████▏ | 1640/2000 [00:26<00:04, 80.14it/s]\u001b[A\n",
            " 82%|████████▏ | 1649/2000 [00:26<00:04, 78.23it/s]\u001b[A\n",
            " 83%|████████▎ | 1657/2000 [00:26<00:04, 77.11it/s]\u001b[A\n",
            " 83%|████████▎ | 1665/2000 [00:26<00:04, 77.63it/s]\u001b[A\n",
            " 84%|████████▎ | 1673/2000 [00:26<00:04, 77.67it/s]\u001b[A\n",
            " 84%|████████▍ | 1681/2000 [00:26<00:04, 77.28it/s]\u001b[A\n",
            " 84%|████████▍ | 1689/2000 [00:26<00:04, 77.13it/s]\u001b[A\n",
            " 85%|████████▍ | 1697/2000 [00:26<00:03, 76.77it/s]\u001b[A\n",
            " 85%|████████▌ | 1705/2000 [00:26<00:03, 76.46it/s]\u001b[A\n",
            " 86%|████████▌ | 1713/2000 [00:26<00:03, 76.90it/s]\u001b[A\n",
            " 86%|████████▌ | 1721/2000 [00:27<00:03, 76.07it/s]\u001b[A\n",
            " 86%|████████▋ | 1729/2000 [00:27<00:03, 74.30it/s]\u001b[A\n",
            " 87%|████████▋ | 1737/2000 [00:27<00:03, 74.19it/s]\u001b[A\n",
            " 87%|████████▋ | 1745/2000 [00:27<00:03, 74.16it/s]\u001b[A\n",
            " 88%|████████▊ | 1753/2000 [00:27<00:03, 73.99it/s]\u001b[A\n",
            " 88%|████████▊ | 1761/2000 [00:27<00:03, 72.65it/s]\u001b[A\n",
            " 88%|████████▊ | 1769/2000 [00:27<00:03, 72.51it/s]\u001b[A\n",
            " 89%|████████▉ | 1778/2000 [00:27<00:02, 75.51it/s]\u001b[A\n",
            " 89%|████████▉ | 1786/2000 [00:27<00:02, 76.62it/s]\u001b[A\n",
            " 90%|████████▉ | 1795/2000 [00:28<00:02, 77.67it/s]\u001b[A\n",
            " 90%|█████████ | 1803/2000 [00:28<00:02, 76.03it/s]\u001b[A\n",
            " 91%|█████████ | 1811/2000 [00:28<00:02, 75.96it/s]\u001b[A\n",
            " 91%|█████████ | 1819/2000 [00:28<00:02, 75.64it/s]\u001b[A\n",
            " 91%|█████████▏| 1827/2000 [00:28<00:02, 75.58it/s]\u001b[A\n",
            " 92%|█████████▏| 1835/2000 [00:28<00:02, 74.45it/s]\u001b[A\n",
            " 92%|█████████▏| 1843/2000 [00:28<00:02, 74.59it/s]\u001b[A\n",
            " 93%|█████████▎| 1851/2000 [00:28<00:01, 76.10it/s]\u001b[A\n",
            " 93%|█████████▎| 1859/2000 [00:28<00:01, 76.42it/s]\u001b[A\n",
            " 93%|█████████▎| 1867/2000 [00:29<00:01, 76.05it/s]\u001b[A\n",
            " 94%|█████████▍| 1875/2000 [00:29<00:01, 76.53it/s]\u001b[A\n",
            " 94%|█████████▍| 1883/2000 [00:29<00:01, 74.67it/s]\u001b[A\n",
            " 95%|█████████▍| 1891/2000 [00:29<00:01, 75.86it/s]\u001b[A\n",
            " 95%|█████████▍| 1899/2000 [00:29<00:01, 76.26it/s]\u001b[A\n",
            " 95%|█████████▌| 1907/2000 [00:29<00:01, 76.10it/s]\u001b[A\n",
            " 96%|█████████▌| 1915/2000 [00:29<00:01, 73.72it/s]\u001b[A\n",
            " 96%|█████████▌| 1923/2000 [00:29<00:01, 74.15it/s]\u001b[A\n",
            " 97%|█████████▋| 1931/2000 [00:29<00:00, 73.95it/s]\u001b[A\n",
            " 97%|█████████▋| 1939/2000 [00:30<00:00, 70.06it/s]\u001b[A\n",
            " 97%|█████████▋| 1947/2000 [00:30<00:00, 71.23it/s]\u001b[A\n",
            " 98%|█████████▊| 1955/2000 [00:30<00:00, 70.09it/s]\u001b[A\n",
            " 98%|█████████▊| 1963/2000 [00:30<00:00, 71.70it/s]\u001b[A\n",
            " 99%|█████████▊| 1971/2000 [00:30<00:00, 72.67it/s]\u001b[A\n",
            " 99%|█████████▉| 1979/2000 [00:30<00:00, 73.56it/s]\u001b[A\n",
            " 99%|█████████▉| 1987/2000 [00:30<00:00, 73.72it/s]\u001b[A\n",
            "100%|██████████| 2000/2000 [00:30<00:00, 64.89it/s]\n"
          ],
          "name": "stderr"
        }
      ]
    },
    {
      "cell_type": "code",
      "metadata": {
        "id": "4IhU2odwBggN",
        "colab_type": "code",
        "colab": {}
      },
      "source": [
        "X = np.array(train_image)"
      ],
      "execution_count": 0,
      "outputs": []
    },
    {
      "cell_type": "code",
      "metadata": {
        "id": "YkHhDUIUEgY-",
        "colab_type": "code",
        "colab": {}
      },
      "source": [
        "!!!!!!!!! save numpy array as npy file\n",
        "from numpy import asarray\n",
        "from numpy import save\n",
        "# define data\n",
        "data = X\n",
        "# save to npy file\n",
        "save('2000_xdata.npy', data)"
      ],
      "execution_count": 0,
      "outputs": []
    },
    {
      "cell_type": "code",
      "metadata": {
        "id": "3ztAFYAbBsKU",
        "colab_type": "code",
        "colab": {}
      },
      "source": [
        "#Create Validation Data Test \n",
        "val_index = list(os.listdir(val_folder))"
      ],
      "execution_count": 0,
      "outputs": []
    },
    {
      "cell_type": "code",
      "metadata": {
        "id": "iNuCup3eBwDR",
        "colab_type": "code",
        "colab": {}
      },
      "source": [
        "val_image = []\n",
        "for i in tqdm(range(300)):\n",
        "    img = image.load_img(val_folder+val_index[i], color_mode='rgb', target_size=None)\n",
        "    img = image.img_to_array(img)\n",
        "    val_image.append(img)"
      ],
      "execution_count": 0,
      "outputs": []
    },
    {
      "cell_type": "code",
      "metadata": {
        "id": "aEqRdIX5CAAv",
        "colab_type": "code",
        "colab": {}
      },
      "source": [
        "val_array= np.array(val_image)"
      ],
      "execution_count": 0,
      "outputs": []
    },
    {
      "cell_type": "code",
      "metadata": {
        "colab_type": "code",
        "id": "kMGM3z5IFB56",
        "colab": {}
      },
      "source": [
        "# define data\n",
        "data = val_array\n",
        "# save to npy file\n",
        "save('300_val_data.npy', data)"
      ],
      "execution_count": 0,
      "outputs": []
    },
    {
      "cell_type": "markdown",
      "metadata": {
        "id": "sNedcjf0Cdxs",
        "colab_type": "text"
      },
      "source": [
        "#Create labels "
      ]
    },
    {
      "cell_type": "markdown",
      "metadata": {
        "id": "PdNi_EkYS0rv",
        "colab_type": "text"
      },
      "source": [
        ""
      ]
    },
    {
      "cell_type": "code",
      "metadata": {
        "id": "YCGrCOhB3QDP",
        "colab_type": "code",
        "colab": {}
      },
      "source": [
        "y = train[:1999]"
      ],
      "execution_count": 0,
      "outputs": []
    },
    {
      "cell_type": "code",
      "metadata": {
        "id": "s3B2zPis3T_I",
        "colab_type": "code",
        "colab": {}
      },
      "source": [
        "y = np.array(train_2k.drop(['index'],axis=1))"
      ],
      "execution_count": 0,
      "outputs": []
    },
    {
      "cell_type": "code",
      "metadata": {
        "id": "3YOvpFI-CsbL",
        "colab_type": "code",
        "outputId": "939dd16f-b5f5-4727-d0f9-bb68a8ff39da",
        "colab": {
          "base_uri": "https://localhost:8080/",
          "height": 35
        }
      },
      "source": [
        "y.shape "
      ],
      "execution_count": 41,
      "outputs": [
        {
          "output_type": "execute_result",
          "data": {
            "text/plain": [
              "(2000, 6)"
            ]
          },
          "metadata": {
            "tags": []
          },
          "execution_count": 41
        }
      ]
    },
    {
      "cell_type": "code",
      "metadata": {
        "id": "64UDv4iZG0du",
        "colab_type": "code",
        "colab": {}
      },
      "source": [
        "# define data\n",
        "#data = y\n",
        "# save to npy file\n",
        "#save('y_4000_data.npy', y)"
      ],
      "execution_count": 0,
      "outputs": []
    },
    {
      "cell_type": "code",
      "metadata": {
        "id": "1bddfdLlpUIK",
        "colab_type": "code",
        "outputId": "ccb9a8f2-875e-49b8-d393-34affb8a0a4c",
        "colab": {
          "base_uri": "https://localhost:8080/",
          "height": 312
        }
      },
      "source": [
        "X= np.load('/content/4000_xdata.npy')"
      ],
      "execution_count": 0,
      "outputs": [
        {
          "output_type": "error",
          "ename": "FileNotFoundError",
          "evalue": "ignored",
          "traceback": [
            "\u001b[0;31m---------------------------------------------------------------------------\u001b[0m",
            "\u001b[0;31mFileNotFoundError\u001b[0m                         Traceback (most recent call last)",
            "\u001b[0;32m<ipython-input-20-bf8c8fd843e9>\u001b[0m in \u001b[0;36m<module>\u001b[0;34m()\u001b[0m\n\u001b[0;32m----> 1\u001b[0;31m \u001b[0mX\u001b[0m\u001b[0;34m=\u001b[0m \u001b[0mnp\u001b[0m\u001b[0;34m.\u001b[0m\u001b[0mload\u001b[0m\u001b[0;34m(\u001b[0m\u001b[0;34m'/content/4000_xdata.npy'\u001b[0m\u001b[0;34m)\u001b[0m\u001b[0;34m\u001b[0m\u001b[0;34m\u001b[0m\u001b[0m\n\u001b[0m",
            "\u001b[0;32m/usr/local/lib/python3.6/dist-packages/numpy/lib/npyio.py\u001b[0m in \u001b[0;36mload\u001b[0;34m(file, mmap_mode, allow_pickle, fix_imports, encoding)\u001b[0m\n\u001b[1;32m    426\u001b[0m         \u001b[0mown_fid\u001b[0m \u001b[0;34m=\u001b[0m \u001b[0;32mFalse\u001b[0m\u001b[0;34m\u001b[0m\u001b[0;34m\u001b[0m\u001b[0m\n\u001b[1;32m    427\u001b[0m     \u001b[0;32melse\u001b[0m\u001b[0;34m:\u001b[0m\u001b[0;34m\u001b[0m\u001b[0;34m\u001b[0m\u001b[0m\n\u001b[0;32m--> 428\u001b[0;31m         \u001b[0mfid\u001b[0m \u001b[0;34m=\u001b[0m \u001b[0mopen\u001b[0m\u001b[0;34m(\u001b[0m\u001b[0mos_fspath\u001b[0m\u001b[0;34m(\u001b[0m\u001b[0mfile\u001b[0m\u001b[0;34m)\u001b[0m\u001b[0;34m,\u001b[0m \u001b[0;34m\"rb\"\u001b[0m\u001b[0;34m)\u001b[0m\u001b[0;34m\u001b[0m\u001b[0;34m\u001b[0m\u001b[0m\n\u001b[0m\u001b[1;32m    429\u001b[0m         \u001b[0mown_fid\u001b[0m \u001b[0;34m=\u001b[0m \u001b[0;32mTrue\u001b[0m\u001b[0;34m\u001b[0m\u001b[0;34m\u001b[0m\u001b[0m\n\u001b[1;32m    430\u001b[0m \u001b[0;34m\u001b[0m\u001b[0m\n",
            "\u001b[0;31mFileNotFoundError\u001b[0m: [Errno 2] No such file or directory: '/content/4000_xdata.npy'"
          ]
        }
      ]
    },
    {
      "cell_type": "code",
      "metadata": {
        "id": "rIET3xdOq9d-",
        "colab_type": "code",
        "outputId": "8c654757-f242-410e-a581-bcb636ff54dd",
        "colab": {
          "base_uri": "https://localhost:8080/",
          "height": 292
        }
      },
      "source": [
        "y =  np.load('/content/y_4000_data.npy')"
      ],
      "execution_count": 0,
      "outputs": [
        {
          "output_type": "error",
          "ename": "FileNotFoundError",
          "evalue": "ignored",
          "traceback": [
            "\u001b[0;31m---------------------------------------------------------------------------\u001b[0m",
            "\u001b[0;31mFileNotFoundError\u001b[0m                         Traceback (most recent call last)",
            "\u001b[0;32m<ipython-input-8-b06c831203ad>\u001b[0m in \u001b[0;36m<module>\u001b[0;34m()\u001b[0m\n\u001b[0;32m----> 1\u001b[0;31m \u001b[0my\u001b[0m \u001b[0;34m=\u001b[0m  \u001b[0mnp\u001b[0m\u001b[0;34m.\u001b[0m\u001b[0mload\u001b[0m\u001b[0;34m(\u001b[0m\u001b[0;34m'/content/y_4000_data.npy'\u001b[0m\u001b[0;34m)\u001b[0m\u001b[0;34m\u001b[0m\u001b[0;34m\u001b[0m\u001b[0m\n\u001b[0m",
            "\u001b[0;32m/usr/local/lib/python3.6/dist-packages/numpy/lib/npyio.py\u001b[0m in \u001b[0;36mload\u001b[0;34m(file, mmap_mode, allow_pickle, fix_imports, encoding)\u001b[0m\n\u001b[1;32m    426\u001b[0m         \u001b[0mown_fid\u001b[0m \u001b[0;34m=\u001b[0m \u001b[0;32mFalse\u001b[0m\u001b[0;34m\u001b[0m\u001b[0;34m\u001b[0m\u001b[0m\n\u001b[1;32m    427\u001b[0m     \u001b[0;32melse\u001b[0m\u001b[0;34m:\u001b[0m\u001b[0;34m\u001b[0m\u001b[0;34m\u001b[0m\u001b[0m\n\u001b[0;32m--> 428\u001b[0;31m         \u001b[0mfid\u001b[0m \u001b[0;34m=\u001b[0m \u001b[0mopen\u001b[0m\u001b[0;34m(\u001b[0m\u001b[0mos_fspath\u001b[0m\u001b[0;34m(\u001b[0m\u001b[0mfile\u001b[0m\u001b[0;34m)\u001b[0m\u001b[0;34m,\u001b[0m \u001b[0;34m\"rb\"\u001b[0m\u001b[0;34m)\u001b[0m\u001b[0;34m\u001b[0m\u001b[0;34m\u001b[0m\u001b[0m\n\u001b[0m\u001b[1;32m    429\u001b[0m         \u001b[0mown_fid\u001b[0m \u001b[0;34m=\u001b[0m \u001b[0;32mTrue\u001b[0m\u001b[0;34m\u001b[0m\u001b[0;34m\u001b[0m\u001b[0m\n\u001b[1;32m    430\u001b[0m \u001b[0;34m\u001b[0m\u001b[0m\n",
            "\u001b[0;31mFileNotFoundError\u001b[0m: [Errno 2] No such file or directory: '/content/y_4000_data.npy'"
          ]
        }
      ]
    },
    {
      "cell_type": "markdown",
      "metadata": {
        "id": "WWfmGVl_5Iz_",
        "colab_type": "text"
      },
      "source": [
        "# Train Test Split "
      ]
    },
    {
      "cell_type": "code",
      "metadata": {
        "id": "STwJ0vBWDEFh",
        "colab_type": "code",
        "colab": {}
      },
      "source": [
        "X_train, X_test, y_train, y_test = train_test_split(X, y, random_state=None, test_size=0.1)"
      ],
      "execution_count": 0,
      "outputs": []
    },
    {
      "cell_type": "code",
      "metadata": {
        "id": "BSumDXYoiolM",
        "colab_type": "code",
        "colab": {}
      },
      "source": [
        ""
      ],
      "execution_count": 0,
      "outputs": []
    },
    {
      "cell_type": "code",
      "metadata": {
        "id": "ruc7AkzlDG50",
        "colab_type": "code",
        "outputId": "1db9c2c5-b85e-4045-f35c-07ff0fc6a240",
        "colab": {
          "base_uri": "https://localhost:8080/",
          "height": 35
        }
      },
      "source": [
        " "
      ],
      "execution_count": 0,
      "outputs": [
        {
          "output_type": "execute_result",
          "data": {
            "text/plain": [
              "((1800, 512, 512, 3), (200, 512, 512, 3), (1800, 6), (200, 6))"
            ]
          },
          "metadata": {
            "tags": []
          },
          "execution_count": 18
        }
      ]
    },
    {
      "cell_type": "markdown",
      "metadata": {
        "id": "KUGxQufw5keK",
        "colab_type": "text"
      },
      "source": [
        "# Model Layers and Summary Report \n",
        "# Compile and Fit "
      ]
    },
    {
      "cell_type": "code",
      "metadata": {
        "id": "cfqKvlquQdCB",
        "colab_type": "code",
        "colab": {}
      },
      "source": [
        "from keras import backend as K\n",
        "\n",
        "\n",
        "def jaccard_distance(y_true, y_pred, smooth=100):\n",
        "    \"\"\"Jaccard distance for semantic segmentation.\n",
        "    Also known as the intersection-over-union loss.\n",
        "    This loss is useful when you have unbalanced numbers of pixels within an image\n",
        "    because it gives all classes equal weight. However, it is not the defacto\n",
        "    standard for image segmentation.\n",
        "    For example, assume you are trying to predict if\n",
        "    each pixel is cat, dog, or background.\n",
        "    You have 80% background pixels, 10% dog, and 10% cat.\n",
        "    If the model predicts 100% background\n",
        "    should it be be 80% right (as with categorical cross entropy)\n",
        "    or 30% (with this loss)?\n",
        "    The loss has been modified to have a smooth gradient as it converges on zero.\n",
        "    This has been shifted so it converges on 0 and is smoothed to avoid exploding\n",
        "    or disappearing gradient.\n",
        "    Jaccard = (|X & Y|)/ (|X|+ |Y| - |X & Y|)\n",
        "            = sum(|A*B|)/(sum(|A|)+sum(|B|)-sum(|A*B|))\n",
        "    # Arguments\n",
        "        y_true: The ground truth tensor.\n",
        "        y_pred: The predicted tensor\n",
        "        smooth: Smoothing factor. Default is 100.\n",
        "    # Returns\n",
        "        The Jaccard distance between the two tensors.\n",
        "    # References\n",
        "        - [What is a good evaluation measure for semantic segmentation?](\n",
        "           http://www.bmva.org/bmvc/2013/Papers/paper0032/paper0032.pdf)\n",
        "    \"\"\"\n",
        "    intersection = K.sum(K.abs(y_true * y_pred), axis=-1)\n",
        "    sum_ = K.sum(K.abs(y_true) + K.abs(y_pred), axis=-1)\n",
        "    jac = (intersection + smooth) / (sum_ - intersection + smooth)\n",
        "    return (1 - jac) * smooth"
      ],
      "execution_count": 0,
      "outputs": []
    },
    {
      "cell_type": "code",
      "metadata": {
        "id": "yj4tSNsVDKw6",
        "colab_type": "code",
        "colab": {}
      },
      "source": [
        "model = Sequential()\n",
        "model.add(Conv2D(filters=16, kernel_size=(5, 5), activation=\"relu\", input_shape=(512,512,3)))\n",
        "model.add(MaxPooling2D(pool_size=(2, 2)))\n",
        "model.add(Dropout(0.25))\n",
        "model.add(Conv2D(filters=32, kernel_size=(5, 5), activation='relu'))\n",
        "model.add(MaxPooling2D(pool_size=(2, 2)))\n",
        "model.add(Dropout(0.25))\n",
        "model.add(Conv2D(filters=64, kernel_size=(5, 5), activation=\"relu\"))\n",
        "model.add(MaxPooling2D(pool_size=(2, 2)))\n",
        "model.add(Dropout(0.25))\n",
        "model.add(Conv2D(filters=64, kernel_size=(5, 5), activation='relu'))\n",
        "model.add(MaxPooling2D(pool_size=(2, 2)))\n",
        "model.add(Dropout(0.25))\n",
        "model.add(Flatten())\n",
        "model.add(Dense(3, activation='relu'))\n",
        "model.add(Dropout(0.5))\n",
        "model.add(Dense(3, activation='relu'))\n",
        "model.add(Dropout(0.5))\n",
        "model.add(Dense(6, activation='softmax'))"
      ],
      "execution_count": 0,
      "outputs": []
    },
    {
      "cell_type": "code",
      "metadata": {
        "id": "rBPhGQmYDI8L",
        "colab_type": "code",
        "outputId": "7630726c-cfda-4191-d18c-ad7450c976ad",
        "colab": {
          "base_uri": "https://localhost:8080/",
          "height": 799
        }
      },
      "source": [
        "model.summary()"
      ],
      "execution_count": 0,
      "outputs": [
        {
          "output_type": "stream",
          "text": [
            "Model: \"sequential_1\"\n",
            "_________________________________________________________________\n",
            "Layer (type)                 Output Shape              Param #   \n",
            "=================================================================\n",
            "conv2d_1 (Conv2D)            (None, 508, 508, 16)      1216      \n",
            "_________________________________________________________________\n",
            "max_pooling2d_1 (MaxPooling2 (None, 254, 254, 16)      0         \n",
            "_________________________________________________________________\n",
            "dropout_1 (Dropout)          (None, 254, 254, 16)      0         \n",
            "_________________________________________________________________\n",
            "conv2d_2 (Conv2D)            (None, 250, 250, 32)      12832     \n",
            "_________________________________________________________________\n",
            "max_pooling2d_2 (MaxPooling2 (None, 125, 125, 32)      0         \n",
            "_________________________________________________________________\n",
            "dropout_2 (Dropout)          (None, 125, 125, 32)      0         \n",
            "_________________________________________________________________\n",
            "conv2d_3 (Conv2D)            (None, 121, 121, 64)      51264     \n",
            "_________________________________________________________________\n",
            "max_pooling2d_3 (MaxPooling2 (None, 60, 60, 64)        0         \n",
            "_________________________________________________________________\n",
            "dropout_3 (Dropout)          (None, 60, 60, 64)        0         \n",
            "_________________________________________________________________\n",
            "conv2d_4 (Conv2D)            (None, 56, 56, 64)        102464    \n",
            "_________________________________________________________________\n",
            "max_pooling2d_4 (MaxPooling2 (None, 28, 28, 64)        0         \n",
            "_________________________________________________________________\n",
            "dropout_4 (Dropout)          (None, 28, 28, 64)        0         \n",
            "_________________________________________________________________\n",
            "flatten_1 (Flatten)          (None, 50176)             0         \n",
            "_________________________________________________________________\n",
            "dense_1 (Dense)              (None, 3)                 150531    \n",
            "_________________________________________________________________\n",
            "dropout_5 (Dropout)          (None, 3)                 0         \n",
            "_________________________________________________________________\n",
            "dense_2 (Dense)              (None, 3)                 12        \n",
            "_________________________________________________________________\n",
            "dropout_6 (Dropout)          (None, 3)                 0         \n",
            "_________________________________________________________________\n",
            "dense_3 (Dense)              (None, 6)                 24        \n",
            "=================================================================\n",
            "Total params: 318,343\n",
            "Trainable params: 318,343\n",
            "Non-trainable params: 0\n",
            "_________________________________________________________________\n"
          ],
          "name": "stdout"
        }
      ]
    },
    {
      "cell_type": "code",
      "metadata": {
        "id": "4tLwF4JmDNiA",
        "colab_type": "code",
        "colab": {}
      },
      "source": [
        "model.compile(optimizer='adam', loss=[jaccard_distance], metrics=['accuracy'])"
      ],
      "execution_count": 0,
      "outputs": []
    },
    {
      "cell_type": "code",
      "metadata": {
        "id": "OH5dIB__DY2r",
        "colab_type": "code",
        "outputId": "20479e1c-b777-4960-ecec-58cbf42451ac",
        "colab": {
          "base_uri": "https://localhost:8080/",
          "height": 1000
        }
      },
      "source": [
        "model.fit(X_train, y_train, epochs=32, validation_data=(X_test, y_test), batch_size=4, class_weight='auto')"
      ],
      "execution_count": 26,
      "outputs": [
        {
          "output_type": "stream",
          "text": [
            "Train on 1800 samples, validate on 200 samples\n",
            "Epoch 1/32\n",
            "1800/1800 [==============================] - 544s 302ms/step - loss: 1.5980 - accuracy: 0.6878 - val_loss: 1.4912 - val_accuracy: 0.6500\n",
            "Epoch 2/32\n",
            "1800/1800 [==============================] - 545s 303ms/step - loss: 1.3388 - accuracy: 0.6950 - val_loss: 1.2137 - val_accuracy: 0.6500\n",
            "Epoch 3/32\n",
            "1800/1800 [==============================] - 537s 298ms/step - loss: 1.0513 - accuracy: 0.6950 - val_loss: 0.9767 - val_accuracy: 0.6500\n",
            "Epoch 4/32\n",
            "1800/1800 [==============================] - 533s 296ms/step - loss: 0.8517 - accuracy: 0.6950 - val_loss: 0.8378 - val_accuracy: 0.6500\n",
            "Epoch 5/32\n",
            "1800/1800 [==============================] - 534s 297ms/step - loss: 0.7408 - accuracy: 0.6950 - val_loss: 0.7626 - val_accuracy: 0.6500\n",
            "Epoch 6/32\n",
            "1800/1800 [==============================] - 536s 298ms/step - loss: 0.6790 - accuracy: 0.6950 - val_loss: 0.7192 - val_accuracy: 0.6500\n",
            "Epoch 7/32\n",
            "1800/1800 [==============================] - 536s 298ms/step - loss: 0.6423 - accuracy: 0.6950 - val_loss: 0.6925 - val_accuracy: 0.6500\n",
            "Epoch 8/32\n",
            "1800/1800 [==============================] - 534s 296ms/step - loss: 0.6189 - accuracy: 0.6950 - val_loss: 0.6750 - val_accuracy: 0.6500\n",
            "Epoch 9/32\n",
            "1800/1800 [==============================] - 539s 299ms/step - loss: 0.6033 - accuracy: 0.6950 - val_loss: 0.6629 - val_accuracy: 0.6500\n",
            "Epoch 10/32\n",
            "1800/1800 [==============================] - 534s 297ms/step - loss: 0.5924 - accuracy: 0.6950 - val_loss: 0.6544 - val_accuracy: 0.6500\n",
            "Epoch 11/32\n",
            "1800/1800 [==============================] - 535s 297ms/step - loss: 0.5845 - accuracy: 0.6950 - val_loss: 0.6482 - val_accuracy: 0.6500\n",
            "Epoch 12/32\n",
            "1800/1800 [==============================] - 541s 301ms/step - loss: 0.5788 - accuracy: 0.6950 - val_loss: 0.6435 - val_accuracy: 0.6500\n",
            "Epoch 13/32\n",
            "1800/1800 [==============================] - 539s 299ms/step - loss: 0.5744 - accuracy: 0.6950 - val_loss: 0.6400 - val_accuracy: 0.6500\n",
            "Epoch 14/32\n",
            "1800/1800 [==============================] - 541s 301ms/step - loss: 0.5711 - accuracy: 0.6950 - val_loss: 0.6373 - val_accuracy: 0.6500\n",
            "Epoch 15/32\n",
            "1800/1800 [==============================] - 548s 304ms/step - loss: 0.5685 - accuracy: 0.6950 - val_loss: 0.6352 - val_accuracy: 0.6500\n",
            "Epoch 16/32\n",
            "1800/1800 [==============================] - 548s 305ms/step - loss: 0.5665 - accuracy: 0.6950 - val_loss: 0.6336 - val_accuracy: 0.6500\n",
            "Epoch 17/32\n",
            "1800/1800 [==============================] - 545s 303ms/step - loss: 0.5650 - accuracy: 0.6950 - val_loss: 0.6323 - val_accuracy: 0.6500\n",
            "Epoch 18/32\n",
            "1800/1800 [==============================] - 543s 302ms/step - loss: 0.5637 - accuracy: 0.6950 - val_loss: 0.6312 - val_accuracy: 0.6500\n",
            "Epoch 19/32\n",
            "1800/1800 [==============================] - 542s 301ms/step - loss: 0.5627 - accuracy: 0.6950 - val_loss: 0.6304 - val_accuracy: 0.6500\n",
            "Epoch 20/32\n",
            "1800/1800 [==============================] - 538s 299ms/step - loss: 0.5620 - accuracy: 0.6950 - val_loss: 0.6298 - val_accuracy: 0.6500\n",
            "Epoch 21/32\n",
            "1800/1800 [==============================] - 538s 299ms/step - loss: 0.5613 - accuracy: 0.6950 - val_loss: 0.6292 - val_accuracy: 0.6500\n",
            "Epoch 22/32\n",
            "1800/1800 [==============================] - 537s 298ms/step - loss: 0.5608 - accuracy: 0.6950 - val_loss: 0.6288 - val_accuracy: 0.6500\n",
            "Epoch 23/32\n",
            "1800/1800 [==============================] - 540s 300ms/step - loss: 0.5604 - accuracy: 0.6950 - val_loss: 0.6285 - val_accuracy: 0.6500\n",
            "Epoch 24/32\n",
            "1800/1800 [==============================] - 537s 298ms/step - loss: 0.5601 - accuracy: 0.6950 - val_loss: 0.6282 - val_accuracy: 0.6500\n",
            "Epoch 25/32\n",
            "1800/1800 [==============================] - 540s 300ms/step - loss: 0.5598 - accuracy: 0.6950 - val_loss: 0.6280 - val_accuracy: 0.6500\n",
            "Epoch 26/32\n",
            "1800/1800 [==============================] - 537s 299ms/step - loss: 0.5596 - accuracy: 0.6950 - val_loss: 0.6278 - val_accuracy: 0.6500\n",
            "Epoch 27/32\n",
            "1800/1800 [==============================] - 537s 298ms/step - loss: 0.5594 - accuracy: 0.6950 - val_loss: 0.6277 - val_accuracy: 0.6500\n",
            "Epoch 28/32\n",
            "1800/1800 [==============================] - 539s 300ms/step - loss: 0.5593 - accuracy: 0.6950 - val_loss: 0.6276 - val_accuracy: 0.6500\n",
            "Epoch 29/32\n",
            "1800/1800 [==============================] - 543s 302ms/step - loss: 0.5592 - accuracy: 0.6950 - val_loss: 0.6275 - val_accuracy: 0.6500\n",
            "Epoch 30/32\n",
            "1800/1800 [==============================] - 540s 300ms/step - loss: 0.5591 - accuracy: 0.6950 - val_loss: 0.6274 - val_accuracy: 0.6500\n",
            "Epoch 31/32\n",
            "1800/1800 [==============================] - 538s 299ms/step - loss: 0.5590 - accuracy: 0.6950 - val_loss: 0.6273 - val_accuracy: 0.6500\n",
            "Epoch 32/32\n",
            "1800/1800 [==============================] - 537s 298ms/step - loss: 0.5590 - accuracy: 0.6950 - val_loss: 0.6273 - val_accuracy: 0.6500\n"
          ],
          "name": "stdout"
        },
        {
          "output_type": "execute_result",
          "data": {
            "text/plain": [
              "<keras.callbacks.callbacks.History at 0x7f8073c4ee10>"
            ]
          },
          "metadata": {
            "tags": []
          },
          "execution_count": 26
        }
      ]
    },
    {
      "cell_type": "code",
      "metadata": {
        "id": "urXRJQtu_923",
        "colab_type": "code",
        "colab": {}
      },
      "source": [
        "model.save('jaccard_1_69.5%.h5')"
      ],
      "execution_count": 0,
      "outputs": []
    },
    {
      "cell_type": "code",
      "metadata": {
        "id": "zss5HUp9ypQm",
        "colab_type": "code",
        "colab": {}
      },
      "source": [
        "from keras.models import load_model\n",
        "test_model = tf.keras.models.load_model('5000_sequential.h5')"
      ],
      "execution_count": 0,
      "outputs": []
    },
    {
      "cell_type": "code",
      "metadata": {
        "id": "LCRChEK8y6ct",
        "colab_type": "code",
        "outputId": "ed8eed5c-619c-4a44-a0b1-6e26a286d068",
        "colab": {
          "base_uri": "https://localhost:8080/",
          "height": 35
        }
      },
      "source": [
        "ls 85%_loss_65%_binary_sequential.h5"
      ],
      "execution_count": 0,
      "outputs": [
        {
          "output_type": "stream",
          "text": [
            "85%_loss_65%_binary_sequential.h5\n"
          ],
          "name": "stdout"
        }
      ]
    },
    {
      "cell_type": "code",
      "metadata": {
        "id": "4y38rxax3l6w",
        "colab_type": "code",
        "outputId": "c2a35481-c41b-405b-f39b-f911fc38d811",
        "colab": {
          "base_uri": "https://localhost:8080/",
          "height": 799
        }
      },
      "source": [
        "test_model.summary()"
      ],
      "execution_count": 0,
      "outputs": [
        {
          "output_type": "stream",
          "text": [
            "Model: \"sequential_2\"\n",
            "_________________________________________________________________\n",
            "Layer (type)                 Output Shape              Param #   \n",
            "=================================================================\n",
            "conv2d_5 (Conv2D)            (None, 508, 508, 16)      1216      \n",
            "_________________________________________________________________\n",
            "max_pooling2d_5 (MaxPooling2 (None, 254, 254, 16)      0         \n",
            "_________________________________________________________________\n",
            "dropout_7 (Dropout)          (None, 254, 254, 16)      0         \n",
            "_________________________________________________________________\n",
            "conv2d_6 (Conv2D)            (None, 250, 250, 32)      12832     \n",
            "_________________________________________________________________\n",
            "max_pooling2d_6 (MaxPooling2 (None, 125, 125, 32)      0         \n",
            "_________________________________________________________________\n",
            "dropout_8 (Dropout)          (None, 125, 125, 32)      0         \n",
            "_________________________________________________________________\n",
            "conv2d_7 (Conv2D)            (None, 121, 121, 64)      51264     \n",
            "_________________________________________________________________\n",
            "max_pooling2d_7 (MaxPooling2 (None, 60, 60, 64)        0         \n",
            "_________________________________________________________________\n",
            "dropout_9 (Dropout)          (None, 60, 60, 64)        0         \n",
            "_________________________________________________________________\n",
            "conv2d_8 (Conv2D)            (None, 56, 56, 64)        102464    \n",
            "_________________________________________________________________\n",
            "max_pooling2d_8 (MaxPooling2 (None, 28, 28, 64)        0         \n",
            "_________________________________________________________________\n",
            "dropout_10 (Dropout)         (None, 28, 28, 64)        0         \n",
            "_________________________________________________________________\n",
            "flatten_2 (Flatten)          (None, 50176)             0         \n",
            "_________________________________________________________________\n",
            "dense_4 (Dense)              (None, 3)                 150531    \n",
            "_________________________________________________________________\n",
            "dropout_11 (Dropout)         (None, 3)                 0         \n",
            "_________________________________________________________________\n",
            "dense_5 (Dense)              (None, 3)                 12        \n",
            "_________________________________________________________________\n",
            "dropout_12 (Dropout)         (None, 3)                 0         \n",
            "_________________________________________________________________\n",
            "dense_6 (Dense)              (None, 6)                 24        \n",
            "=================================================================\n",
            "Total params: 318,343\n",
            "Trainable params: 318,343\n",
            "Non-trainable params: 0\n",
            "_________________________________________________________________\n"
          ],
          "name": "stdout"
        }
      ]
    },
    {
      "cell_type": "markdown",
      "metadata": {
        "id": "TVK1a3uA5zpm",
        "colab_type": "text"
      },
      "source": [
        "# Load Image and Predict Probability it belongs to a class "
      ]
    },
    {
      "cell_type": "code",
      "metadata": {
        "id": "RkX37USsf3gb",
        "colab_type": "code",
        "colab": {}
      },
      "source": [
        "# Load Image and Predict Probability it belongs to a class "
      ],
      "execution_count": 0,
      "outputs": []
    },
    {
      "cell_type": "code",
      "metadata": {
        "id": "l2Bj_hcdDfgv",
        "colab_type": "code",
        "colab": {}
      },
      "source": [
        "img = image.load_img('/content/drive/My Drive/agri_vision/Agriculture-Vision/train/images/rgb/1W6YEHJJU_10032-6287-10544-6799.jpg', target_size=None)\n",
        "img = image.img_to_array(img)\n",
        "img = img/255"
      ],
      "execution_count": 0,
      "outputs": []
    },
    {
      "cell_type": "code",
      "metadata": {
        "id": "zGplOy2492y6",
        "colab_type": "code",
        "colab": {}
      },
      "source": [
        ""
      ],
      "execution_count": 0,
      "outputs": []
    },
    {
      "cell_type": "code",
      "metadata": {
        "id": "RqF-6sTwPDaz",
        "colab_type": "code",
        "outputId": "9211fa28-4ad6-45c0-b8d5-a34822f2e225",
        "colab": {
          "base_uri": "https://localhost:8080/",
          "height": 35
        }
      },
      "source": [
        "img.shape"
      ],
      "execution_count": 0,
      "outputs": [
        {
          "output_type": "execute_result",
          "data": {
            "text/plain": [
              "(512, 512, 3)"
            ]
          },
          "metadata": {
            "tags": []
          },
          "execution_count": 119
        }
      ]
    },
    {
      "cell_type": "code",
      "metadata": {
        "id": "APw6V7AeOm8A",
        "colab_type": "code",
        "outputId": "8b703450-dde9-4bf3-c0b0-89e2dae7977a",
        "colab": {
          "base_uri": "https://localhost:8080/",
          "height": 52
        }
      },
      "source": [
        "classes = np.array(train.columns[1:])\n",
        "classes"
      ],
      "execution_count": 0,
      "outputs": [
        {
          "output_type": "execute_result",
          "data": {
            "text/plain": [
              "array(['cloud_shadow', 'double_planter', 'planter_skip', 'standing_water',\n",
              "       'waterway', 'weed_cluster'], dtype=object)"
            ]
          },
          "metadata": {
            "tags": []
          },
          "execution_count": 120
        }
      ]
    },
    {
      "cell_type": "code",
      "metadata": {
        "id": "0OLD13piQCg2",
        "colab_type": "code",
        "outputId": "3653f5c1-2f95-40d5-c56d-804f47ba8cb6",
        "colab": {
          "base_uri": "https://localhost:8080/",
          "height": 52
        }
      },
      "source": [
        "proba = model.predict(img.reshape(1, 512, 512, 3))\n",
        "proba"
      ],
      "execution_count": 0,
      "outputs": [
        {
          "output_type": "execute_result",
          "data": {
            "text/plain": [
              "array([[6.5071037e-04, 1.0740142e-02, 1.7803586e-03, 5.0106314e-03,\n",
              "        2.4591589e-01, 7.3590225e-01]], dtype=float32)"
            ]
          },
          "metadata": {
            "tags": []
          },
          "execution_count": 121
        }
      ]
    },
    {
      "cell_type": "code",
      "metadata": {
        "id": "R9tHa7foQGwl",
        "colab_type": "code",
        "outputId": "37e044e2-7fb8-4327-d33a-24608329ee86",
        "colab": {
          "base_uri": "https://localhost:8080/",
          "height": 35
        }
      },
      "source": [
        "top_3 = np.argsort(proba[0])[:-4:-1]\n",
        "top_3"
      ],
      "execution_count": 0,
      "outputs": [
        {
          "output_type": "execute_result",
          "data": {
            "text/plain": [
              "array([5, 4, 1])"
            ]
          },
          "metadata": {
            "tags": []
          },
          "execution_count": 122
        }
      ]
    },
    {
      "cell_type": "code",
      "metadata": {
        "id": "9ByEipmPQJvV",
        "colab_type": "code",
        "outputId": "6ecc18e4-1e31-41ae-8982-40a9a671890d",
        "colab": {
          "base_uri": "https://localhost:8080/",
          "height": 378
        }
      },
      "source": [
        "import matplotlib.pyplot as plt\n",
        "\n",
        "for i in range(3):\n",
        "    print(\"{}\".format(classes[top_3[i]])+\" ({:.3})\".format(proba[0][top_3[i]]))\n",
        "plt.imshow(img)"
      ],
      "execution_count": 0,
      "outputs": [
        {
          "output_type": "stream",
          "text": [
            "Clipping input data to the valid range for imshow with RGB data ([0..1] for floats or [0..255] for integers).\n"
          ],
          "name": "stderr"
        },
        {
          "output_type": "stream",
          "text": [
            "weed_cluster (0.736)\n",
            "waterway (0.246)\n",
            "double_planter (0.0107)\n"
          ],
          "name": "stdout"
        },
        {
          "output_type": "execute_result",
          "data": {
            "text/plain": [
              "<matplotlib.image.AxesImage at 0x7efe7180e668>"
            ]
          },
          "metadata": {
            "tags": []
          },
          "execution_count": 151
        },
        {
          "output_type": "display_data",
          "data": {
            "image/png": "[encoded data removed]",
            "text/plain": [
              "<Figure size 432x288 with 1 Axes>"
            ]
          },
          "metadata": {
            "tags": [],
            "needs_background": "light"
          }
        }
      ]
    },
    {
      "cell_type": "code",
      "metadata": {
        "id": "0Yf3nY80d1gZ",
        "colab_type": "code",
        "outputId": "924be6f3-fce4-4ac4-b52c-f62cc137ba43",
        "colab": {
          "base_uri": "https://localhost:8080/",
          "height": 221
        }
      },
      "source": [
        "classes = np.array(train.columns[2:])\n",
        "proba = model.predict(img.reshape(1, 512, 512, 3))\n",
        "top_3 = np.argsort(proba[0])[:-4:-1]\n",
        "for i in range(3):\n",
        "    print(\"{}\".format(classes[top_3[i]])+\" ({:.3})\".format(proba[0][top_3[i]]))\n",
        "plt.imshow(img)"
      ],
      "execution_count": 0,
      "outputs": [
        {
          "output_type": "error",
          "ename": "IndexError",
          "evalue": "ignored",
          "traceback": [
            "\u001b[0;31m---------------------------------------------------------------------------\u001b[0m",
            "\u001b[0;31mIndexError\u001b[0m                                Traceback (most recent call last)",
            "\u001b[0;32m<ipython-input-69-c390b677a486>\u001b[0m in \u001b[0;36m<module>\u001b[0;34m()\u001b[0m\n\u001b[1;32m      3\u001b[0m \u001b[0mtop_3\u001b[0m \u001b[0;34m=\u001b[0m \u001b[0mnp\u001b[0m\u001b[0;34m.\u001b[0m\u001b[0margsort\u001b[0m\u001b[0;34m(\u001b[0m\u001b[0mproba\u001b[0m\u001b[0;34m[\u001b[0m\u001b[0;36m0\u001b[0m\u001b[0;34m]\u001b[0m\u001b[0;34m)\u001b[0m\u001b[0;34m[\u001b[0m\u001b[0;34m:\u001b[0m\u001b[0;34m-\u001b[0m\u001b[0;36m4\u001b[0m\u001b[0;34m:\u001b[0m\u001b[0;34m-\u001b[0m\u001b[0;36m1\u001b[0m\u001b[0;34m]\u001b[0m\u001b[0;34m\u001b[0m\u001b[0;34m\u001b[0m\u001b[0m\n\u001b[1;32m      4\u001b[0m \u001b[0;32mfor\u001b[0m \u001b[0mi\u001b[0m \u001b[0;32min\u001b[0m \u001b[0mrange\u001b[0m\u001b[0;34m(\u001b[0m\u001b[0;36m3\u001b[0m\u001b[0;34m)\u001b[0m\u001b[0;34m:\u001b[0m\u001b[0;34m\u001b[0m\u001b[0;34m\u001b[0m\u001b[0m\n\u001b[0;32m----> 5\u001b[0;31m     \u001b[0mprint\u001b[0m\u001b[0;34m(\u001b[0m\u001b[0;34m\"{}\"\u001b[0m\u001b[0;34m.\u001b[0m\u001b[0mformat\u001b[0m\u001b[0;34m(\u001b[0m\u001b[0mclasses\u001b[0m\u001b[0;34m[\u001b[0m\u001b[0mtop_3\u001b[0m\u001b[0;34m[\u001b[0m\u001b[0mi\u001b[0m\u001b[0;34m]\u001b[0m\u001b[0;34m]\u001b[0m\u001b[0;34m)\u001b[0m\u001b[0;34m+\u001b[0m\u001b[0;34m\" ({:.3})\"\u001b[0m\u001b[0;34m.\u001b[0m\u001b[0mformat\u001b[0m\u001b[0;34m(\u001b[0m\u001b[0mproba\u001b[0m\u001b[0;34m[\u001b[0m\u001b[0;36m0\u001b[0m\u001b[0;34m]\u001b[0m\u001b[0;34m[\u001b[0m\u001b[0mtop_3\u001b[0m\u001b[0;34m[\u001b[0m\u001b[0mi\u001b[0m\u001b[0;34m]\u001b[0m\u001b[0;34m]\u001b[0m\u001b[0;34m)\u001b[0m\u001b[0;34m)\u001b[0m\u001b[0;34m\u001b[0m\u001b[0;34m\u001b[0m\u001b[0m\n\u001b[0m\u001b[1;32m      6\u001b[0m \u001b[0mplt\u001b[0m\u001b[0;34m.\u001b[0m\u001b[0mimshow\u001b[0m\u001b[0;34m(\u001b[0m\u001b[0mimg\u001b[0m\u001b[0;34m)\u001b[0m\u001b[0;34m\u001b[0m\u001b[0;34m\u001b[0m\u001b[0m\n",
            "\u001b[0;31mIndexError\u001b[0m: index 5 is out of bounds for axis 0 with size 5"
          ]
        }
      ]
    },
    {
      "cell_type": "markdown",
      "metadata": {
        "id": "jO5kxT3Od3Nd",
        "colab_type": "text"
      },
      "source": [
        "# Test Data"
      ]
    },
    {
      "cell_type": "markdown",
      "metadata": {
        "id": "eDkzwYkRiDmX",
        "colab_type": "text"
      },
      "source": [
        ""
      ]
    },
    {
      "cell_type": "code",
      "metadata": {
        "id": "TCP3O9St8Emx",
        "colab_type": "code",
        "colab": {}
      },
      "source": [
        "test_index = pd.DataFrame(os.listdir(test_folder))\n",
        "test_index['index'] = test_index[0]\n",
        "\n",
        "test_index.drop(columns = 0, inplace=True)\n",
        "test_index = test_index.loc[0:199]"
      ],
      "execution_count": 0,
      "outputs": []
    },
    {
      "cell_type": "code",
      "metadata": {
        "id": "TmpLbS78-TSD",
        "colab_type": "code",
        "outputId": "855f6e4d-d992-4aab-fa16-d6385eaf0fcf",
        "colab": {
          "base_uri": "https://localhost:8080/",
          "height": 399
        }
      },
      "source": [
        "test_index"
      ],
      "execution_count": 0,
      "outputs": [
        {
          "output_type": "execute_result",
          "data": {
            "text/html": [
              "<div>\n",
              "<style scoped>\n",
              "    .dataframe tbody tr th:only-of-type {\n",
              "        vertical-align: middle;\n",
              "    }\n",
              "\n",
              "    .dataframe tbody tr th {\n",
              "        vertical-align: top;\n",
              "    }\n",
              "\n",
              "    .dataframe thead th {\n",
              "        text-align: right;\n",
              "    }\n",
              "</style>\n",
              "<table border=\"1\" class=\"dataframe\">\n",
              "  <thead>\n",
              "    <tr style=\"text-align: right;\">\n",
              "      <th></th>\n",
              "      <th>index</th>\n",
              "    </tr>\n",
              "  </thead>\n",
              "  <tbody>\n",
              "    <tr>\n",
              "      <th>0</th>\n",
              "      <td>C7CPXCQFB_818-792-1330-1304.jpg</td>\n",
              "    </tr>\n",
              "    <tr>\n",
              "      <th>1</th>\n",
              "      <td>AA6FKGHN2_2468-10654-2980-11166.jpg</td>\n",
              "    </tr>\n",
              "    <tr>\n",
              "      <th>2</th>\n",
              "      <td>TCGYUIB7I_2653-8327-3165-8839.jpg</td>\n",
              "    </tr>\n",
              "    <tr>\n",
              "      <th>3</th>\n",
              "      <td>D1M7QKGIN_3999-2721-4511-3233.jpg</td>\n",
              "    </tr>\n",
              "    <tr>\n",
              "      <th>4</th>\n",
              "      <td>AA6FKGHN2_1640-5812-2152-6324.jpg</td>\n",
              "    </tr>\n",
              "    <tr>\n",
              "      <th>...</th>\n",
              "      <td>...</td>\n",
              "    </tr>\n",
              "    <tr>\n",
              "      <th>195</th>\n",
              "      <td>MTTWHAFPN_2659-577-3171-1089.jpg</td>\n",
              "    </tr>\n",
              "    <tr>\n",
              "      <th>196</th>\n",
              "      <td>4AZJLIGYZ_7731-3019-8243-3531.jpg</td>\n",
              "    </tr>\n",
              "    <tr>\n",
              "      <th>197</th>\n",
              "      <td>2K21T1ZGV_2442-1934-2954-2446.jpg</td>\n",
              "    </tr>\n",
              "    <tr>\n",
              "      <th>198</th>\n",
              "      <td>Y6UDNUNDT_3652-2850-4164-3362.jpg</td>\n",
              "    </tr>\n",
              "    <tr>\n",
              "      <th>199</th>\n",
              "      <td>D1M7QKGIN_5130-3646-5642-4158.jpg</td>\n",
              "    </tr>\n",
              "  </tbody>\n",
              "</table>\n",
              "<p>200 rows × 1 columns</p>\n",
              "</div>"
            ],
            "text/plain": [
              "                                   index\n",
              "0        C7CPXCQFB_818-792-1330-1304.jpg\n",
              "1    AA6FKGHN2_2468-10654-2980-11166.jpg\n",
              "2      TCGYUIB7I_2653-8327-3165-8839.jpg\n",
              "3      D1M7QKGIN_3999-2721-4511-3233.jpg\n",
              "4      AA6FKGHN2_1640-5812-2152-6324.jpg\n",
              "..                                   ...\n",
              "195     MTTWHAFPN_2659-577-3171-1089.jpg\n",
              "196    4AZJLIGYZ_7731-3019-8243-3531.jpg\n",
              "197    2K21T1ZGV_2442-1934-2954-2446.jpg\n",
              "198    Y6UDNUNDT_3652-2850-4164-3362.jpg\n",
              "199    D1M7QKGIN_5130-3646-5642-4158.jpg\n",
              "\n",
              "[200 rows x 1 columns]"
            ]
          },
          "metadata": {
            "tags": []
          },
          "execution_count": 110
        }
      ]
    },
    {
      "cell_type": "code",
      "metadata": {
        "id": "Hn01kKSAQ_c7",
        "colab_type": "code",
        "outputId": "0f8bd50e-0b6c-4415-c67b-e1aea58ea4ff",
        "colab": {
          "base_uri": "https://localhost:8080/",
          "height": 674
        }
      },
      "source": [
        " \n",
        "test_image = []\n",
        "for i in tqdm(range(200)):\n",
        "    img = image.load_img('/content/drive/My Drive/agri_vision/Agriculture-Vision/test/test_rgb/' + test_index['index'][i], color_mode='rgb', target_size=None)\n",
        "    img = image.img_to_array(img)\n",
        "    test_image.append(img)\n",
        "img = image.img_to_array(test_image)"
      ],
      "execution_count": 0,
      "outputs": [
        {
          "output_type": "stream",
          "text": [
            "\n",
            "  0%|          | 0/199 [00:00<?, ?it/s]\u001b[A\n",
            "  6%|▌         | 12/199 [00:00<00:01, 116.57it/s]\u001b[A\n",
            " 13%|█▎        | 25/199 [00:00<00:01, 117.68it/s]\u001b[A\n",
            " 19%|█▊        | 37/199 [00:00<00:01, 117.64it/s]\u001b[A\n",
            " 25%|██▍       | 49/199 [00:00<00:01, 117.33it/s]\u001b[A\n",
            " 31%|███       | 61/199 [00:00<00:01, 117.23it/s]\u001b[A\n",
            " 37%|███▋      | 73/199 [00:00<00:01, 117.69it/s]\u001b[A\n",
            " 43%|████▎     | 85/199 [00:00<00:00, 117.74it/s]\u001b[A\n",
            " 49%|████▊     | 97/199 [00:00<00:00, 118.36it/s]\u001b[A\n",
            " 55%|█████▍    | 109/199 [00:00<00:00, 118.22it/s]\u001b[A\n",
            " 61%|██████    | 121/199 [00:01<00:00, 118.20it/s]\u001b[A\n",
            " 67%|██████▋   | 133/199 [00:01<00:00, 118.09it/s]\u001b[A\n",
            " 73%|███████▎  | 145/199 [00:01<00:00, 118.05it/s]\u001b[A\n",
            " 79%|███████▉  | 157/199 [00:01<00:00, 117.71it/s]\u001b[A\n",
            " 85%|████████▍ | 169/199 [00:01<00:00, 117.70it/s]\u001b[A\n",
            " 91%|█████████ | 181/199 [00:01<00:00, 116.51it/s]\u001b[A\n",
            "100%|██████████| 199/199 [00:01<00:00, 117.36it/s]\n"
          ],
          "name": "stderr"
        },
        {
          "output_type": "error",
          "ename": "ValueError",
          "evalue": "ignored",
          "traceback": [
            "\u001b[0;31m---------------------------------------------------------------------------\u001b[0m",
            "\u001b[0;31mValueError\u001b[0m                                Traceback (most recent call last)",
            "\u001b[0;32m<ipython-input-125-ff999f1620da>\u001b[0m in \u001b[0;36m<module>\u001b[0;34m()\u001b[0m\n\u001b[1;32m      5\u001b[0m    \u001b[0mimg\u001b[0m \u001b[0;34m=\u001b[0m \u001b[0mimage\u001b[0m\u001b[0;34m.\u001b[0m\u001b[0mimg_to_array\u001b[0m\u001b[0;34m(\u001b[0m\u001b[0mimg\u001b[0m\u001b[0;34m)\u001b[0m\u001b[0;34m\u001b[0m\u001b[0;34m\u001b[0m\u001b[0m\n\u001b[1;32m      6\u001b[0m    \u001b[0mtest_image\u001b[0m\u001b[0;34m.\u001b[0m\u001b[0mappend\u001b[0m\u001b[0;34m(\u001b[0m\u001b[0mimg\u001b[0m\u001b[0;34m)\u001b[0m\u001b[0;34m\u001b[0m\u001b[0;34m\u001b[0m\u001b[0m\n\u001b[0;32m----> 7\u001b[0;31m \u001b[0mimg\u001b[0m \u001b[0;34m=\u001b[0m \u001b[0mimage\u001b[0m\u001b[0;34m.\u001b[0m\u001b[0mimg_to_array\u001b[0m\u001b[0;34m(\u001b[0m\u001b[0mtest_image\u001b[0m\u001b[0;34m)\u001b[0m\u001b[0;34m\u001b[0m\u001b[0;34m\u001b[0m\u001b[0m\n\u001b[0m",
            "\u001b[0;32m/usr/local/lib/python3.6/dist-packages/keras/preprocessing/image.py\u001b[0m in \u001b[0;36mimg_to_array\u001b[0;34m(img, data_format, dtype)\u001b[0m\n\u001b[1;32m     73\u001b[0m     \u001b[0;32mif\u001b[0m \u001b[0mdtype\u001b[0m \u001b[0;32mis\u001b[0m \u001b[0;32mNone\u001b[0m\u001b[0;34m:\u001b[0m\u001b[0;34m\u001b[0m\u001b[0;34m\u001b[0m\u001b[0m\n\u001b[1;32m     74\u001b[0m         \u001b[0mdtype\u001b[0m \u001b[0;34m=\u001b[0m \u001b[0mbackend\u001b[0m\u001b[0;34m.\u001b[0m\u001b[0mfloatx\u001b[0m\u001b[0;34m(\u001b[0m\u001b[0;34m)\u001b[0m\u001b[0;34m\u001b[0m\u001b[0;34m\u001b[0m\u001b[0m\n\u001b[0;32m---> 75\u001b[0;31m     \u001b[0;32mreturn\u001b[0m \u001b[0mimage\u001b[0m\u001b[0;34m.\u001b[0m\u001b[0mimg_to_array\u001b[0m\u001b[0;34m(\u001b[0m\u001b[0mimg\u001b[0m\u001b[0;34m,\u001b[0m \u001b[0mdata_format\u001b[0m\u001b[0;34m=\u001b[0m\u001b[0mdata_format\u001b[0m\u001b[0;34m,\u001b[0m \u001b[0mdtype\u001b[0m\u001b[0;34m=\u001b[0m\u001b[0mdtype\u001b[0m\u001b[0;34m)\u001b[0m\u001b[0;34m\u001b[0m\u001b[0;34m\u001b[0m\u001b[0m\n\u001b[0m\u001b[1;32m     76\u001b[0m \u001b[0;34m\u001b[0m\u001b[0m\n\u001b[1;32m     77\u001b[0m \u001b[0;34m\u001b[0m\u001b[0m\n",
            "\u001b[0;32m/usr/local/lib/python3.6/dist-packages/keras_preprocessing/image/utils.py\u001b[0m in \u001b[0;36mimg_to_array\u001b[0;34m(img, data_format, dtype)\u001b[0m\n\u001b[1;32m    307\u001b[0m             \u001b[0mx\u001b[0m \u001b[0;34m=\u001b[0m \u001b[0mx\u001b[0m\u001b[0;34m.\u001b[0m\u001b[0mreshape\u001b[0m\u001b[0;34m(\u001b[0m\u001b[0;34m(\u001b[0m\u001b[0mx\u001b[0m\u001b[0;34m.\u001b[0m\u001b[0mshape\u001b[0m\u001b[0;34m[\u001b[0m\u001b[0;36m0\u001b[0m\u001b[0;34m]\u001b[0m\u001b[0;34m,\u001b[0m \u001b[0mx\u001b[0m\u001b[0;34m.\u001b[0m\u001b[0mshape\u001b[0m\u001b[0;34m[\u001b[0m\u001b[0;36m1\u001b[0m\u001b[0;34m]\u001b[0m\u001b[0;34m,\u001b[0m \u001b[0;36m1\u001b[0m\u001b[0;34m)\u001b[0m\u001b[0;34m)\u001b[0m\u001b[0;34m\u001b[0m\u001b[0;34m\u001b[0m\u001b[0m\n\u001b[1;32m    308\u001b[0m     \u001b[0;32melse\u001b[0m\u001b[0;34m:\u001b[0m\u001b[0;34m\u001b[0m\u001b[0;34m\u001b[0m\u001b[0m\n\u001b[0;32m--> 309\u001b[0;31m         \u001b[0;32mraise\u001b[0m \u001b[0mValueError\u001b[0m\u001b[0;34m(\u001b[0m\u001b[0;34m'Unsupported image shape: %s'\u001b[0m \u001b[0;34m%\u001b[0m \u001b[0;34m(\u001b[0m\u001b[0mx\u001b[0m\u001b[0;34m.\u001b[0m\u001b[0mshape\u001b[0m\u001b[0;34m,\u001b[0m\u001b[0;34m)\u001b[0m\u001b[0;34m)\u001b[0m\u001b[0;34m\u001b[0m\u001b[0;34m\u001b[0m\u001b[0m\n\u001b[0m\u001b[1;32m    310\u001b[0m     \u001b[0;32mreturn\u001b[0m \u001b[0mx\u001b[0m\u001b[0;34m\u001b[0m\u001b[0;34m\u001b[0m\u001b[0m\n",
            "\u001b[0;31mValueError\u001b[0m: Unsupported image shape: (199, 512, 512, 3)"
          ]
        }
      ]
    },
    {
      "cell_type": "code",
      "metadata": {
        "id": "hfgkPHLU3Y2v",
        "colab_type": "code",
        "colab": {}
      },
      "source": [
        " test_index = pd.DataFrame(os.listdir(test_folder))\n"
      ],
      "execution_count": 0,
      "outputs": []
    },
    {
      "cell_type": "code",
      "metadata": {
        "id": "tsrRX2XH4CV7",
        "colab_type": "code",
        "colab": {}
      },
      "source": [
        "img = image.load_img('/content/drive/My Drive/agri_vision/Agriculture-Vision/test/test_rgb/' + test_index['index'][i], color_mode='rgb', target_size=None)"
      ],
      "execution_count": 0,
      "outputs": []
    },
    {
      "cell_type": "code",
      "metadata": {
        "id": "k1JBgWw26z76",
        "colab_type": "code",
        "colab": {}
      },
      "source": [
        "for i in tqdm(range(199)):\n",
        "    img = image.load_img('/content/drive/My Drive/agri_vision/Agriculture-Vision/test/test_rgb/' + test_index['index'][i], color_mode='rgb', target_size=None)"
      ],
      "execution_count": 0,
      "outputs": []
    },
    {
      "cell_type": "code",
      "metadata": {
        "id": "Vu1ugq879aBo",
        "colab_type": "code",
        "colab": {}
      },
      "source": [
        "img = image.img_to_array(img)"
      ],
      "execution_count": 0,
      "outputs": []
    },
    {
      "cell_type": "code",
      "metadata": {
        "id": "1V4taPCU9hHr",
        "colab_type": "code",
        "colab": {}
      },
      "source": [
        "test_image.append(img)"
      ],
      "execution_count": 0,
      "outputs": []
    },
    {
      "cell_type": "code",
      "metadata": {
        "id": "ARLKBbRG9xrV",
        "colab_type": "code",
        "colab": {}
      },
      "source": [
        "test_x = np.array(test_image)"
      ],
      "execution_count": 0,
      "outputs": []
    },
    {
      "cell_type": "code",
      "metadata": {
        "id": "GwN8LwQm95Vf",
        "colab_type": "code",
        "colab": {}
      },
      "source": [
        "model.predict(test_x)"
      ],
      "execution_count": 0,
      "outputs": []
    },
    {
      "cell_type": "code",
      "metadata": {
        "id": "imfsfrVE_s-t",
        "colab_type": "code",
        "colab": {}
      },
      "source": [
        ""
      ],
      "execution_count": 0,
      "outputs": []
    },
    {
      "cell_type": "markdown",
      "metadata": {
        "id": "5cZijHLN5gWS",
        "colab_type": "text"
      },
      "source": [
        "# save model"
      ]
    },
    {
      "cell_type": "code",
      "metadata": {
        "id": "UC--MM7J5hkB",
        "colab_type": "code",
        "colab": {}
      },
      "source": [
        "import os\n",
        "\n",
        "import tensorflow as tf\n",
        "from tensorflow import keras"
      ],
      "execution_count": 0,
      "outputs": []
    },
    {
      "cell_type": "code",
      "metadata": {
        "id": "_fZSmfEm5j5C",
        "colab_type": "code",
        "outputId": "bab09e79-81f6-4841-ff91-e14c0c2c82e4",
        "colab": {
          "base_uri": "https://localhost:8080/",
          "height": 168
        }
      },
      "source": [
        "model = create_model()"
      ],
      "execution_count": 0,
      "outputs": [
        {
          "output_type": "error",
          "ename": "NameError",
          "evalue": "ignored",
          "traceback": [
            "\u001b[0;31m---------------------------------------------------------------------------\u001b[0m",
            "\u001b[0;31mNameError\u001b[0m                                 Traceback (most recent call last)",
            "\u001b[0;32m<ipython-input-139-834f03506210>\u001b[0m in \u001b[0;36m<module>\u001b[0;34m()\u001b[0m\n\u001b[0;32m----> 1\u001b[0;31m \u001b[0mmodel\u001b[0m \u001b[0;34m=\u001b[0m \u001b[0mcreate_model\u001b[0m\u001b[0;34m(\u001b[0m\u001b[0;34m)\u001b[0m\u001b[0;34m\u001b[0m\u001b[0;34m\u001b[0m\u001b[0m\n\u001b[0m",
            "\u001b[0;31mNameError\u001b[0m: name 'create_model' is not defined"
          ]
        }
      ]
    },
    {
      "cell_type": "code",
      "metadata": {
        "id": "CW17nam46BeK",
        "colab_type": "code",
        "colab": {}
      },
      "source": [
        ""
      ],
      "execution_count": 0,
      "outputs": []
    }
  ]
}
