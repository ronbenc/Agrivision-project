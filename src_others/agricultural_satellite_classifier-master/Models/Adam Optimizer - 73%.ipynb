{
 "cells": [
  {
   "cell_type": "code",
   "execution_count": 3,
   "metadata": {},
   "outputs": [],
   "source": [
    "from __future__ import print_function\n",
    "import keras\n",
    "from keras.layers import Dense, Conv2D, BatchNormalization, Activation\n",
    "from keras.layers import AveragePooling2D, Input, Flatten\n",
    "from keras.optimizers import Adam\n",
    "from keras.callbacks import ModelCheckpoint, LearningRateScheduler\n",
    "from keras.callbacks import ReduceLROnPlateau\n",
    "from keras.preprocessing.image import ImageDataGenerator\n",
    "from keras.regularizers import l2\n",
    "from keras import backend as K\n",
    "from keras.models import Model\n",
    "from keras.datasets import cifar10\n",
    "import numpy as np\n",
    "import os\n",
    "\n",
    "from tensorflow.keras.models import Model\n",
    "\n",
    "\n",
    "\n",
    "import keras\n",
    "from keras.models import Sequential\n",
    "from keras.layers import Dense, Dropout, Flatten\n",
    "from keras.layers import Conv2D, MaxPooling2D\n",
    "from keras.preprocessing import image\n",
    "import pandas as pd"
   ]
  },
  {
   "cell_type": "code",
   "execution_count": 9,
   "metadata": {},
   "outputs": [],
   "source": [
    "# load data \n",
    "\n",
    "BASE_DIR ='D:/agriculture_computer_vision/Agriculture-Vision/train/images/'\n",
    "\n",
    "rgb= os.path.join(BASE_DIR, 'rgb/')\n",
    "\n",
    "cloud_shadow = os.path.join(BASE_DIR, 'cloud_shadow')\n",
    "\n",
    "standing_water = os.path.join(BASE_DIR, 'standing_water')\n",
    "\n",
    "double_plant = os.path.join(BASE_DIR,'double_plant')\n",
    "\n",
    "planter_skip = os.path.join(BASE_DIR + 'planter_skip')\n",
    "\n",
    "water_way = os.path.join(BASE_DIR,'waterway')\n",
    "\n",
    "weed_cluster = os.path.join(BASE_DIR, 'weed_cluster')\n",
    "\n",
    "\n",
    "\n",
    "\n",
    "\n",
    "#test dir\n",
    "TEST_DIR = 'D:/agriculture_computer_vision/Agriculture-Vision/test/images/'\n",
    "test_set = os.path.join(TEST_DIR, 'smaller_test_set')\n",
    "\n",
    "VAL_DIR = 'D:/agriculture_computer_vision/Agriculture-Vision/val/images/rgb/'"
   ]
  },
  {
   "cell_type": "code",
   "execution_count": null,
   "metadata": {},
   "outputs": [],
   "source": [
    "# Training parameters\n",
    "batch_size = 32  # orig paper trained all networks with batch_size=128\n",
    "epochs = 20\n",
    "data_augmentation = True\n",
    "num_classes = 6\n",
    "\n",
    "\n",
    "input_shape = (256, 256, 3)"
   ]
  },
  {
   "cell_type": "code",
   "execution_count": null,
   "metadata": {},
   "outputs": [],
   "source": [
    "# Subtracting pixel mean improves accuracy\n",
    "subtract_pixel_mean = True"
   ]
  },
  {
   "cell_type": "code",
   "execution_count": null,
   "metadata": {},
   "outputs": [],
   "source": [
    "n = 3"
   ]
  },
  {
   "cell_type": "code",
   "execution_count": null,
   "metadata": {},
   "outputs": [],
   "source": [
    "# Model version\n",
    "# Orig paper: version = 1 (ResNet v1), Improved ResNet: version = 2 (ResNet v2)\n",
    "version = 1\n",
    "# Computed depth from supplied model parameter n\n",
    "if version == 1:\n",
    "    depth = n * 6 + 2\n",
    "elif version == 2:\n",
    "    depth = n * 9 + 2"
   ]
  },
  {
   "cell_type": "code",
   "execution_count": null,
   "metadata": {},
   "outputs": [],
   "source": [
    "# Model name, depth and version\n",
    "model_type = 'ResNet%dv%d' % (depth, version) "
   ]
  },
  {
   "cell_type": "code",
   "execution_count": null,
   "metadata": {},
   "outputs": [],
   "source": [
    "train_df = pd.read_csv(r'D:\\agriculture_computer_vision\\final_encoded.csv')\n",
    "train_df.drop(columns='Unnamed: 0', inplace=True)\n",
    "#strip train index\n",
    "train_df['index'] = train_df['index'].str.rstrip('.png')\n",
    "train_df['index'] = train_df['index'] + '.jpg'\n",
    "\n",
    "columns = ['cloud_shadow', 'double_planter', 'planter_skip', 'standing_water', 'waterway', 'weed_cluster']"
   ]
  },
  {
   "cell_type": "code",
   "execution_count": null,
   "metadata": {},
   "outputs": [],
   "source": [
    "train_df"
   ]
  },
  {
   "cell_type": "code",
   "execution_count": null,
   "metadata": {},
   "outputs": [],
   "source": [
    "train_datagen = ImageDataGenerator(rescale=1./255, validation_split=0.10) # set validation split\n",
    "\n",
    "train_generator = train_datagen.flow_from_dataframe(\n",
    "    dataframe = train_df, \n",
    "    directory = 'D:/agriculture_computer_vision/Agriculture-Vision/train/images/rgb/',\n",
    "    x_col = \"index\",\n",
    "    y_col = columns,\n",
    "    batch_size=32,\n",
    "    seed=42,\n",
    "    shuffle=True,\n",
    "    class_mode=\"raw\",\n",
    "    target_size=(256, 256),\n",
    "    subset='training'\n",
    ") # set as training data\n",
    "\n",
    "\n",
    "\n",
    "validation_generator = train_datagen.flow_from_dataframe(\n",
    "    dataframe= train_df,\n",
    "    directory = 'D:/agriculture_computer_vision/Agriculture-Vision/train/images/rgb/',\n",
    "    x_col = \"index\",\n",
    "    y_col = columns,\n",
    "    batch_size=32, \n",
    "    seed=42,\n",
    "    shuffle = True,\n",
    "    class_mode=\"raw\",\n",
    "    target_size = (256, 256),\n",
    "    subset = 'validation')"
   ]
  },
  {
   "cell_type": "code",
   "execution_count": null,
   "metadata": {},
   "outputs": [],
   "source": [
    "from keras import regularizers, optimizers\n",
    "\n",
    "model = Sequential()\n",
    "model.add(Conv2D(32, (3, 3), padding='same',\n",
    "                 input_shape=(256,256,3)))\n",
    "model.add(Activation('relu'))\n",
    "model.add(Conv2D(32, (3, 3)))\n",
    "model.add(Activation('relu'))\n",
    "model.add(MaxPooling2D(pool_size=(2, 2)))\n",
    "model.add(Dropout(0.25))\n",
    "model.add(Conv2D(64, (3, 3), padding='same'))\n",
    "model.add(Activation('relu'))\n",
    "model.add(Conv2D(64, (3, 3)))\n",
    "model.add(Activation('relu'))\n",
    "model.add(MaxPooling2D(pool_size=(2, 2)))\n",
    "model.add(Dropout(0.25))\n",
    "model.add(Flatten())\n",
    "model.add(Dense(512))\n",
    "model.add(Activation('relu'))\n",
    "model.add(Dropout(0.5))\n",
    "model.add(Dense(6, activation='sigmoid'))\n",
    "model.compile(optimizers.Adam(lr=0.0001, decay=1e-6),loss=\"categorical_crossentropy\", metrics=[\"accuracy\"])"
   ]
  },
  {
   "cell_type": "code",
   "execution_count": null,
   "metadata": {},
   "outputs": [],
   "source": [
    "model.summary()"
   ]
  },
  {
   "cell_type": "code",
   "execution_count": null,
   "metadata": {},
   "outputs": [],
   "source": [
    "# checkpoint\n",
    "filepath=\"50_epochs_best_adam.h5\"\n",
    "checkpoint = ModelCheckpoint(filepath, monitor='val_accuracy', verbose=1, save_best_only=True, mode='max')\n",
    "callbacks_list = [checkpoint]"
   ]
  },
  {
   "cell_type": "code",
   "execution_count": null,
   "metadata": {},
   "outputs": [],
   "source": [
    "#### STEP_SIZE_TRAIN = train_generator.n//train_generator.batch_size\n",
    "VAL_STEP_SIZE = validation_generator.n//validation_generator.batch_size\n",
    "\n",
    "model.fit_generator(generator=train_generator,\n",
    "                    steps_per_epoch=STEP_SIZE_TRAIN,\n",
    "                    validation_data = validation_generator,\n",
    "                    epochs=50, callbacks=callbacks_list\n",
    "                   )"
   ]
  },
  {
   "cell_type": "code",
   "execution_count": null,
   "metadata": {},
   "outputs": [],
   "source": [
    "model.save(\"adam_2.h5\")"
   ]
  },
  {
   "cell_type": "code",
   "execution_count": 1,
   "metadata": {},
   "outputs": [
    {
     "name": "stderr",
     "output_type": "stream",
     "text": [
      "Using TensorFlow backend.\n",
      "C:\\Users\\User\\Anaconda3\\lib\\site-packages\\tensorboard\\compat\\tensorflow_stub\\dtypes.py:541: FutureWarning: Passing (type, 1) or '1type' as a synonym of type is deprecated; in a future version of numpy, it will be understood as (type, (1,)) / '(1,)type'.\n",
      "  _np_qint8 = np.dtype([(\"qint8\", np.int8, 1)])\n",
      "C:\\Users\\User\\Anaconda3\\lib\\site-packages\\tensorboard\\compat\\tensorflow_stub\\dtypes.py:542: FutureWarning: Passing (type, 1) or '1type' as a synonym of type is deprecated; in a future version of numpy, it will be understood as (type, (1,)) / '(1,)type'.\n",
      "  _np_quint8 = np.dtype([(\"quint8\", np.uint8, 1)])\n",
      "C:\\Users\\User\\Anaconda3\\lib\\site-packages\\tensorboard\\compat\\tensorflow_stub\\dtypes.py:543: FutureWarning: Passing (type, 1) or '1type' as a synonym of type is deprecated; in a future version of numpy, it will be understood as (type, (1,)) / '(1,)type'.\n",
      "  _np_qint16 = np.dtype([(\"qint16\", np.int16, 1)])\n",
      "C:\\Users\\User\\Anaconda3\\lib\\site-packages\\tensorboard\\compat\\tensorflow_stub\\dtypes.py:544: FutureWarning: Passing (type, 1) or '1type' as a synonym of type is deprecated; in a future version of numpy, it will be understood as (type, (1,)) / '(1,)type'.\n",
      "  _np_quint16 = np.dtype([(\"quint16\", np.uint16, 1)])\n",
      "C:\\Users\\User\\Anaconda3\\lib\\site-packages\\tensorboard\\compat\\tensorflow_stub\\dtypes.py:545: FutureWarning: Passing (type, 1) or '1type' as a synonym of type is deprecated; in a future version of numpy, it will be understood as (type, (1,)) / '(1,)type'.\n",
      "  _np_qint32 = np.dtype([(\"qint32\", np.int32, 1)])\n",
      "C:\\Users\\User\\Anaconda3\\lib\\site-packages\\tensorboard\\compat\\tensorflow_stub\\dtypes.py:550: FutureWarning: Passing (type, 1) or '1type' as a synonym of type is deprecated; in a future version of numpy, it will be understood as (type, (1,)) / '(1,)type'.\n",
      "  np_resource = np.dtype([(\"resource\", np.ubyte, 1)])\n"
     ]
    }
   ],
   "source": [
    "from keras.models import load_model\n",
    "\n",
    "model = load_model(r'C:\\Users\\User\\Desktop\\agri_vision\\50_epochs_best_adam.h5')"
   ]
  },
  {
   "cell_type": "code",
   "execution_count": 12,
   "metadata": {},
   "outputs": [],
   "source": [
    "val_df = pd.read_csv(r'C:\\Users\\User\\Desktop\\agri_vision\\val_encoded.csv')\n",
    "\n",
    "val_df.drop(columns='Unnamed: 0', inplace=True)\n",
    "\n",
    "#strip train index\n",
    "val_df['index'] = val_df['index'].str.rstrip('.png')\n",
    "\n",
    "val_df['index'] = val_df['index'] + '.jpg'\n",
    "\n",
    "columns = ['cloud_shadow', 'double_planter', 'planter_skip', 'standing_water', 'waterway', 'weed_cluster']"
   ]
  },
  {
   "cell_type": "code",
   "execution_count": 13,
   "metadata": {},
   "outputs": [
    {
     "data": {
      "text/plain": [
       "0       18X67NLZ2_1219-1091-1731-1603.jpg\n",
       "1       18X67NLZ2_1219-1603-1731-2115.jpg\n",
       "2        18X67NLZ2_1219-579-1731-1091.jpg\n",
       "3        18X67NLZ2_707-1603-1219-2115.jpg\n",
       "4       1J7JL2PDK_1130-1579-1642-2091.jpg\n",
       "                      ...                \n",
       "4426     ZKV2W31CE_739-4212-1251-4724.jpg\n",
       "4427     ZKV2W31CE_777-3820-1289-4332.jpg\n",
       "4428     ZKV2W31CE_887-3539-1399-4051.jpg\n",
       "4429     ZKV2W31CE_951-2419-1463-2931.jpg\n",
       "4430     ZKV2W31CE_957-2884-1469-3396.jpg\n",
       "Name: index, Length: 4431, dtype: object"
      ]
     },
     "execution_count": 13,
     "metadata": {},
     "output_type": "execute_result"
    }
   ],
   "source": [
    "val_df['index']"
   ]
  },
  {
   "cell_type": "code",
   "execution_count": 14,
   "metadata": {},
   "outputs": [
    {
     "name": "stdout",
     "output_type": "stream",
     "text": [
      "Found 4431 validated image filenames.\n"
     ]
    }
   ],
   "source": [
    "train_datagen = ImageDataGenerator(rescale=1./255) # set validation split\n",
    "\n",
    "val_generator = train_datagen.flow_from_dataframe(\n",
    "    dataframe = val_df, \n",
    "    directory = 'D:/agriculture_computer_vision/Agriculture-Vision/val/images/rgb/',\n",
    "    x_col = \"index\",\n",
    "    batch_size=1,\n",
    "    seed=42,\n",
    "    shuffle=False,\n",
    "    class_mode=None,\n",
    "    target_size=(256, 256),\n",
    ")"
   ]
  },
  {
   "cell_type": "code",
   "execution_count": 15,
   "metadata": {},
   "outputs": [],
   "source": [
    "preds = model.predict(val_generator)"
   ]
  },
  {
   "cell_type": "code",
   "execution_count": 16,
   "metadata": {},
   "outputs": [
    {
     "data": {
      "text/plain": [
       "array([[3.8921672e-01, 4.6506554e-02, 3.0054529e-03, 1.5997516e-02,\n",
       "        1.4912057e-02, 1.2352863e-01],\n",
       "       [8.2327408e-01, 5.3218052e-02, 1.1437878e-02, 4.0780008e-02,\n",
       "        6.2501766e-03, 1.3880223e-01],\n",
       "       [3.3109450e-01, 6.7535758e-02, 8.0447393e-03, 5.2881297e-03,\n",
       "        2.9980965e-02, 2.1595469e-01],\n",
       "       ...,\n",
       "       [1.1022639e-05, 4.9200449e-02, 2.9016814e-05, 9.1662374e-04,\n",
       "        4.8873339e-02, 9.9507207e-01],\n",
       "       [1.5889005e-03, 2.5290055e-02, 1.3964329e-03, 2.3270727e-03,\n",
       "        3.8091545e-03, 9.6007818e-01],\n",
       "       [1.0912654e-04, 1.6684210e-02, 2.9025602e-04, 2.3996332e-03,\n",
       "        1.0010702e-02, 9.8759127e-01]], dtype=float32)"
      ]
     },
     "execution_count": 16,
     "metadata": {},
     "output_type": "execute_result"
    }
   ],
   "source": [
    "preds"
   ]
  },
  {
   "cell_type": "code",
   "execution_count": 17,
   "metadata": {},
   "outputs": [],
   "source": [
    "y_val_true = val_df.drop(columns='index').values.argmax(axis=1)\n",
    "y_val_pred = preds.argmax(axis=1)"
   ]
  },
  {
   "cell_type": "code",
   "execution_count": 18,
   "metadata": {},
   "outputs": [],
   "source": [
    "# Importing the metrics package from sklearn library\n",
    "from sklearn import metrics\n",
    "# Creating the confusion matrix\n",
    "cm = metrics.confusion_matrix(y_val_true, y_val_pred)"
   ]
  },
  {
   "cell_type": "code",
   "execution_count": 19,
   "metadata": {},
   "outputs": [
    {
     "data": {
      "text/html": [
       "<div>\n",
       "<style scoped>\n",
       "    .dataframe tbody tr th:only-of-type {\n",
       "        vertical-align: middle;\n",
       "    }\n",
       "\n",
       "    .dataframe tbody tr th {\n",
       "        vertical-align: top;\n",
       "    }\n",
       "\n",
       "    .dataframe thead th {\n",
       "        text-align: right;\n",
       "    }\n",
       "</style>\n",
       "<table border=\"1\" class=\"dataframe\">\n",
       "  <thead>\n",
       "    <tr style=\"text-align: right;\">\n",
       "      <th></th>\n",
       "      <th>cloud_shadow</th>\n",
       "      <th>double_planter</th>\n",
       "      <th>planter_skip</th>\n",
       "      <th>standing_water</th>\n",
       "      <th>waterway</th>\n",
       "      <th>weed_cluster</th>\n",
       "    </tr>\n",
       "  </thead>\n",
       "  <tbody>\n",
       "    <tr>\n",
       "      <th>cloud_shadow</th>\n",
       "      <td>113</td>\n",
       "      <td>8</td>\n",
       "      <td>0</td>\n",
       "      <td>13</td>\n",
       "      <td>2</td>\n",
       "      <td>73</td>\n",
       "    </tr>\n",
       "    <tr>\n",
       "      <th>double_planter</th>\n",
       "      <td>0</td>\n",
       "      <td>172</td>\n",
       "      <td>0</td>\n",
       "      <td>3</td>\n",
       "      <td>1</td>\n",
       "      <td>264</td>\n",
       "    </tr>\n",
       "    <tr>\n",
       "      <th>planter_skip</th>\n",
       "      <td>1</td>\n",
       "      <td>6</td>\n",
       "      <td>0</td>\n",
       "      <td>2</td>\n",
       "      <td>0</td>\n",
       "      <td>14</td>\n",
       "    </tr>\n",
       "    <tr>\n",
       "      <th>standing_water</th>\n",
       "      <td>10</td>\n",
       "      <td>3</td>\n",
       "      <td>0</td>\n",
       "      <td>99</td>\n",
       "      <td>1</td>\n",
       "      <td>176</td>\n",
       "    </tr>\n",
       "    <tr>\n",
       "      <th>waterway</th>\n",
       "      <td>1</td>\n",
       "      <td>4</td>\n",
       "      <td>0</td>\n",
       "      <td>3</td>\n",
       "      <td>30</td>\n",
       "      <td>473</td>\n",
       "    </tr>\n",
       "    <tr>\n",
       "      <th>weed_cluster</th>\n",
       "      <td>35</td>\n",
       "      <td>23</td>\n",
       "      <td>0</td>\n",
       "      <td>39</td>\n",
       "      <td>20</td>\n",
       "      <td>2842</td>\n",
       "    </tr>\n",
       "  </tbody>\n",
       "</table>\n",
       "</div>"
      ],
      "text/plain": [
       "                cloud_shadow  double_planter  planter_skip  standing_water  \\\n",
       "cloud_shadow             113               8             0              13   \n",
       "double_planter             0             172             0               3   \n",
       "planter_skip               1               6             0               2   \n",
       "standing_water            10               3             0              99   \n",
       "waterway                   1               4             0               3   \n",
       "weed_cluster              35              23             0              39   \n",
       "\n",
       "                waterway  weed_cluster  \n",
       "cloud_shadow           2            73  \n",
       "double_planter         1           264  \n",
       "planter_skip           0            14  \n",
       "standing_water         1           176  \n",
       "waterway              30           473  \n",
       "weed_cluster          20          2842  "
      ]
     },
     "execution_count": 19,
     "metadata": {},
     "output_type": "execute_result"
    }
   ],
   "source": [
    "# Assigning columns names\n",
    "cm_df = pd.DataFrame(cm, \n",
    "            columns = ['cloud_shadow', 'double_planter', 'planter_skip', 'standing_water', 'waterway', 'weed_cluster'],\n",
    "            index = ['cloud_shadow', 'double_planter', 'planter_skip', 'standing_water', 'waterway', 'weed_cluster'])\n",
    "# Showing the confusion matrix\n",
    "cm_df"
   ]
  },
  {
   "cell_type": "code",
   "execution_count": 20,
   "metadata": {},
   "outputs": [
    {
     "data": {
      "text/plain": [
       "0.734822839088242"
      ]
     },
     "execution_count": 20,
     "metadata": {},
     "output_type": "execute_result"
    }
   ],
   "source": [
    "metrics.accuracy_score(y_val_true, y_val_pred)"
   ]
  },
  {
   "cell_type": "code",
   "execution_count": 21,
   "metadata": {},
   "outputs": [
    {
     "name": "stdout",
     "output_type": "stream",
     "text": [
      "                precision    recall  f1-score   support\n",
      "\n",
      "  cloud_shadow       0.71      0.54      0.61       209\n",
      "double_planter       0.80      0.39      0.52       440\n",
      "  planter_skip       0.00      0.00      0.00        23\n",
      "standing_water       0.62      0.34      0.44       289\n",
      "      waterway       0.56      0.06      0.11       511\n",
      "  weed_cluster       0.74      0.96      0.84      2959\n",
      "\n",
      "      accuracy                           0.73      4431\n",
      "     macro avg       0.57      0.38      0.42      4431\n",
      "  weighted avg       0.71      0.73      0.68      4431\n",
      "\n"
     ]
    },
    {
     "name": "stderr",
     "output_type": "stream",
     "text": [
      "C:\\Users\\User\\Anaconda3\\lib\\site-packages\\sklearn\\metrics\\_classification.py:1272: UndefinedMetricWarning: Precision and F-score are ill-defined and being set to 0.0 in labels with no predicted samples. Use `zero_division` parameter to control this behavior.\n",
      "  _warn_prf(average, modifier, msg_start, len(result))\n"
     ]
    }
   ],
   "source": [
    "target_names =  ['cloud_shadow', 'double_planter', 'planter_skip', 'standing_water', 'waterway', 'weed_cluster']\n",
    "\n",
    "from sklearn.metrics import classification_report\n",
    "print(classification_report(y_val_true, y_val_pred, target_names=target_names))"
   ]
  },
  {
   "cell_type": "code",
   "execution_count": null,
   "metadata": {},
   "outputs": [],
   "source": []
  }
 ],
 "metadata": {
  "kernelspec": {
   "display_name": "Python 3",
   "language": "python",
   "name": "python3"
  },
  "language_info": {
   "codemirror_mode": {
    "name": "ipython",
    "version": 3
   },
   "file_extension": ".py",
   "mimetype": "text/x-python",
   "name": "python",
   "nbconvert_exporter": "python",
   "pygments_lexer": "ipython3",
   "version": "3.7.4"
  }
 },
 "nbformat": 4,
 "nbformat_minor": 4
}
