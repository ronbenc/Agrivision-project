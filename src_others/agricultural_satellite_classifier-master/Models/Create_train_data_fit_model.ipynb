{
  "nbformat": 4,
  "nbformat_minor": 0,
  "metadata": {
    "colab": {
      "name": "Create train_set_fit_model.ipynb",
      "provenance": [],
      "collapsed_sections": [],
      "machine_shape": "hm",
      "mount_file_id": "1xR5sccBKiMr7epvCHWHDBu1BxxFXEbaZ",
      "authorship_tag": "ABX9TyMLUel94tWdckBZzvg26qwW",
      "include_colab_link": true
    },
    "kernelspec": {
      "name": "python3",
      "display_name": "Python 3"
    },
    "accelerator": "TPU"
  },
  "cells": [
    {
      "cell_type": "markdown",
      "metadata": {
        "id": "view-in-github",
        "colab_type": "text"
      },
      "source": [
        "<a href=\"https://colab.research.google.com/github/dapsavoie/agricultural_satellite_classifier/blob/master/Create_train_data_fit_model.ipynb\" target=\"_parent\"><img src=\"https://colab.research.google.com/assets/colab-badge.svg\" alt=\"Open In Colab\"/></a>"
      ]
    },
    {
      "cell_type": "markdown",
      "metadata": {
        "id": "c1aDDWAy45HT",
        "colab_type": "text"
      },
      "source": [
        "# Load Data, Import Libraries"
      ]
    },
    {
      "cell_type": "code",
      "metadata": {
        "id": "3ze0OgSQ1ZvN",
        "colab_type": "code",
        "outputId": "ff01317c-4e54-4cb6-ed23-8deca67c7fce",
        "colab": {
          "base_uri": "https://localhost:8080/",
          "height": 55
        }
      },
      "source": [
        "from google.colab import drive\n",
        "drive.mount('/content/drive/')"
      ],
      "execution_count": 1,
      "outputs": [
        {
          "output_type": "stream",
          "text": [
            "Drive already mounted at /content/drive/; to attempt to forcibly remount, call drive.mount(\"/content/drive/\", force_remount=True).\n"
          ],
          "name": "stdout"
        }
      ]
    },
    {
      "cell_type": "code",
      "metadata": {
        "id": "lcl1ZjmFSUBg",
        "colab_type": "code",
        "outputId": "d9a7201a-a58e-46c1-c539-7bb5fa9e398c",
        "colab": {
          "base_uri": "https://localhost:8080/",
          "height": 35
        }
      },
      "source": [
        "import keras\n",
        "from keras.models import Sequential\n",
        "from keras.layers import Dense, Dropout, Flatten\n",
        "from keras.layers import Conv2D, MaxPooling2D\n",
        "from keras.preprocessing import image\n",
        "import numpy as np\n",
        "import pandas as pd\n",
        "from sklearn.model_selection import train_test_split\n",
        "from tqdm import tqdm\n",
        "%matplotlib inline\n",
        "\n",
        "import os\n",
        "\n",
        "import tensorflow as tf\n",
        "\n",
        "import pandas as pd"
      ],
      "execution_count": 2,
      "outputs": [
        {
          "output_type": "stream",
          "text": [
            "Using TensorFlow backend.\n"
          ],
          "name": "stderr"
        }
      ]
    },
    {
      "cell_type": "code",
      "metadata": {
        "id": "rrEb2eaIR32i",
        "colab_type": "code",
        "colab": {}
      },
      "source": [
        " # display file "
      ],
      "execution_count": 0,
      "outputs": []
    },
    {
      "cell_type": "code",
      "metadata": {
        "id": "JleL68dFR4DH",
        "colab_type": "code",
        "colab": {}
      },
      "source": [
        "#!tar -xvf '/content/drive/My Drive/Agriculture-Vision.tar (1).gz' -C '/content/drive/My Drive/agri_vision/'"
      ],
      "execution_count": 0,
      "outputs": []
    },
    {
      "cell_type": "code",
      "metadata": {
        "colab_type": "code",
        "id": "vz-jH8T_Uk2c",
        "colab": {}
      },
      "source": [
        "#load csv, train, val\n",
        "\n",
        "base_dir =  '/content/drive/My Drive/agri_vision/'\n",
        "train_folder = os.path.join(base_dir+ 'Agriculture-Vision/train/images/rgb')\n",
        "\n",
        "val_folder = os.path.join(base_dir +'Agriculture-Vision/val/rgb/')\n",
        "\n",
        "\n",
        "test_folder = os.path.join(base_dir + '/Agriculture-Vision/test/test_rgb/')\n",
        "\n",
        "\n",
        "train = pd.read_csv('/content/drive/My Drive/agri_vision/final_encoded.csv')\n",
        "\n",
        "#strip train index\n",
        "train['index'] = train['index'].str.rstrip('.png')"
      ],
      "execution_count": 0,
      "outputs": []
    },
    {
      "cell_type": "code",
      "metadata": {
        "id": "MkTDuwRMWTPO",
        "colab_type": "code",
        "colab": {}
      },
      "source": [
        "train.drop(columns='Unnamed: 0', inplace=True)"
      ],
      "execution_count": 0,
      "outputs": []
    },
    {
      "cell_type": "code",
      "metadata": {
        "id": "ndzBSwlv31rF",
        "colab_type": "code",
        "colab": {}
      },
      "source": [
        "train_2k = train.loc[0:1999]"
      ],
      "execution_count": 0,
      "outputs": []
    },
    {
      "cell_type": "code",
      "metadata": {
        "id": "tsBPwCNS7Veh",
        "colab_type": "code",
        "outputId": "74fce10f-f332-4265-bfb2-a574536585f7",
        "colab": {
          "base_uri": "https://localhost:8080/",
          "height": 35
        }
      },
      "source": [
        "train_2k.shape"
      ],
      "execution_count": 8,
      "outputs": [
        {
          "output_type": "execute_result",
          "data": {
            "text/plain": [
              "(2000, 7)"
            ]
          },
          "metadata": {
            "tags": []
          },
          "execution_count": 8
        }
      ]
    },
    {
      "cell_type": "markdown",
      "metadata": {
        "id": "mP5Rs-_q5A9l",
        "colab_type": "text"
      },
      "source": [
        "# Create Train and Val Images"
      ]
    },
    {
      "cell_type": "code",
      "metadata": {
        "id": "13TDjrUDBbqW",
        "colab_type": "code",
        "colab": {}
      },
      "source": [
        "# Load 2000 imag"
      ],
      "execution_count": 0,
      "outputs": []
    },
    {
      "cell_type": "code",
      "metadata": {
        "id": "CIQXUfnhBij1",
        "colab_type": "code",
        "colab": {}
      },
      "source": [
        "train_image = []\n",
        "for i in tqdm(range(2000)):\n",
        "    img = image.load_img('/content/drive/My Drive/agri_vision/Agriculture-Vision/train/images/rgb/' + train['index'][i] + '.jpg', color_mode='rgb', target_size=None)\n",
        "    img = image.img_to_array(img)\n",
        "    train_image.append(img)"
      ],
      "execution_count": 0,
      "outputs": []
    },
    {
      "cell_type": "code",
      "metadata": {
        "id": "4IhU2odwBggN",
        "colab_type": "code",
        "colab": {}
      },
      "source": [
        "X = np.array(train_image)"
      ],
      "execution_count": 0,
      "outputs": []
    },
    {
      "cell_type": "code",
      "metadata": {
        "id": "YkHhDUIUEgY-",
        "colab_type": "code",
        "colab": {}
      },
      "source": [
        "# save numpy array as npy file\n",
        "from numpy import asarray\n",
        "from numpy import save\n",
        "# define data\n",
        "data = X\n",
        "# save to npy file\n",
        "save('2000_xdata.npy', data)"
      ],
      "execution_count": 0,
      "outputs": []
    },
    {
      "cell_type": "code",
      "metadata": {
        "id": "3ztAFYAbBsKU",
        "colab_type": "code",
        "colab": {}
      },
      "source": [
        "#Create Validation Data Test \n",
        "val_index = list(os.listdir(val_folder))"
      ],
      "execution_count": 0,
      "outputs": []
    },
    {
      "cell_type": "code",
      "metadata": {
        "id": "iNuCup3eBwDR",
        "colab_type": "code",
        "colab": {}
      },
      "source": [
        "val_image = []\n",
        "for i in tqdm(range(300)):\n",
        "    img = image.load_img(val_folder+val_index[i], color_mode='rgb', target_size=None)\n",
        "    img = image.img_to_array(img)\n",
        "    val_image.append(img)"
      ],
      "execution_count": 0,
      "outputs": []
    },
    {
      "cell_type": "code",
      "metadata": {
        "id": "aEqRdIX5CAAv",
        "colab_type": "code",
        "colab": {}
      },
      "source": [
        "val_array= np.array(val_image)"
      ],
      "execution_count": 0,
      "outputs": []
    },
    {
      "cell_type": "code",
      "metadata": {
        "colab_type": "code",
        "id": "kMGM3z5IFB56",
        "colab": {}
      },
      "source": [
        "# define data\n",
        "data = val_array\n",
        "# save to npy file\n",
        "save('300_val_data.npy', data)"
      ],
      "execution_count": 0,
      "outputs": []
    },
    {
      "cell_type": "markdown",
      "metadata": {
        "id": "sNedcjf0Cdxs",
        "colab_type": "text"
      },
      "source": [
        "#Create labels "
      ]
    },
    {
      "cell_type": "code",
      "metadata": {
        "id": "YCGrCOhB3QDP",
        "colab_type": "code",
        "colab": {}
      },
      "source": [
        "y = train[:2000]"
      ],
      "execution_count": 0,
      "outputs": []
    },
    {
      "cell_type": "code",
      "metadata": {
        "id": "s3B2zPis3T_I",
        "colab_type": "code",
        "colab": {}
      },
      "source": [
        "y = np.array(train_2k.drop(['index'],axis=1))"
      ],
      "execution_count": 0,
      "outputs": []
    },
    {
      "cell_type": "code",
      "metadata": {
        "id": "3YOvpFI-CsbL",
        "colab_type": "code",
        "outputId": "0131f286-24c2-42fd-c6d8-f3b090c5d228",
        "colab": {
          "base_uri": "https://localhost:8080/",
          "height": 35
        }
      },
      "source": [
        "y.shape "
      ],
      "execution_count": 21,
      "outputs": [
        {
          "output_type": "execute_result",
          "data": {
            "text/plain": [
              "(2000, 6)"
            ]
          },
          "metadata": {
            "tags": []
          },
          "execution_count": 21
        }
      ]
    },
    {
      "cell_type": "code",
      "metadata": {
        "id": "64UDv4iZG0du",
        "colab_type": "code",
        "colab": {}
      },
      "source": [
        "# define data\n",
        "data = y\n",
        "# save to npy file\n",
        "save('y_2000_data.npy', data)"
      ],
      "execution_count": 0,
      "outputs": []
    },
    {
      "cell_type": "markdown",
      "metadata": {
        "id": "WWfmGVl_5Iz_",
        "colab_type": "text"
      },
      "source": [
        "# Train Test Split "
      ]
    },
    {
      "cell_type": "code",
      "metadata": {
        "id": "STwJ0vBWDEFh",
        "colab_type": "code",
        "colab": {}
      },
      "source": [
        "X_train, X_test, y_train, y_test = train_test_split(X, y, random_state=42, test_size=0.1)"
      ],
      "execution_count": 0,
      "outputs": []
    },
    {
      "cell_type": "code",
      "metadata": {
        "id": "ruc7AkzlDG50",
        "colab_type": "code",
        "outputId": "f639d792-adf0-4c58-8b6e-20e19cbbaf66",
        "colab": {
          "base_uri": "https://localhost:8080/",
          "height": 35
        }
      },
      "source": [
        "X_train.shape, X_test.shape, y_train.shape, y_test.shape"
      ],
      "execution_count": 24,
      "outputs": [
        {
          "output_type": "execute_result",
          "data": {
            "text/plain": [
              "((1800, 512, 512, 3), (200, 512, 512, 3), (1800, 6), (200, 6))"
            ]
          },
          "metadata": {
            "tags": []
          },
          "execution_count": 24
        }
      ]
    },
    {
      "cell_type": "markdown",
      "metadata": {
        "id": "KUGxQufw5keK",
        "colab_type": "text"
      },
      "source": [
        "# Model Layers and Summary Report \n",
        "# Compile and Fit "
      ]
    },
    {
      "cell_type": "code",
      "metadata": {
        "id": "yj4tSNsVDKw6",
        "colab_type": "code",
        "colab": {}
      },
      "source": [
        "model = Sequential()\n",
        "model.add(Conv2D(filters=16, kernel_size=(5, 5), activation=\"relu\", input_shape=(512,512,3)))\n",
        "model.add(MaxPooling2D(pool_size=(2, 2)))\n",
        "model.add(Dropout(0.25))\n",
        "model.add(Conv2D(filters=32, kernel_size=(5, 5), activation='relu'))\n",
        "model.add(MaxPooling2D(pool_size=(2, 2)))\n",
        "model.add(Dropout(0.25))\n",
        "model.add(Conv2D(filters=64, kernel_size=(5, 5), activation=\"relu\"))\n",
        "model.add(MaxPooling2D(pool_size=(2, 2)))\n",
        "model.add(Dropout(0.25))\n",
        "model.add(Conv2D(filters=64, kernel_size=(5, 5), activation='relu'))\n",
        "model.add(MaxPooling2D(pool_size=(2, 2)))\n",
        "model.add(Dropout(0.25))\n",
        "model.add(Flatten())\n",
        "model.add(Dense(3, activation='relu'))\n",
        "model.add(Dropout(0.5))\n",
        "model.add(Dense(3, activation='relu'))\n",
        "model.add(Dropout(0.5))\n",
        "model.add(Dense(6, activation='softmax'))"
      ],
      "execution_count": 0,
      "outputs": []
    },
    {
      "cell_type": "code",
      "metadata": {
        "id": "rBPhGQmYDI8L",
        "colab_type": "code",
        "outputId": "bff84739-39c0-4cc9-d937-bada44a88f3a",
        "colab": {
          "base_uri": "https://localhost:8080/",
          "height": 799
        }
      },
      "source": [
        "model.summary()"
      ],
      "execution_count": 114,
      "outputs": [
        {
          "output_type": "stream",
          "text": [
            "Model: \"sequential_2\"\n",
            "_________________________________________________________________\n",
            "Layer (type)                 Output Shape              Param #   \n",
            "=================================================================\n",
            "conv2d_5 (Conv2D)            (None, 508, 508, 16)      1216      \n",
            "_________________________________________________________________\n",
            "max_pooling2d_5 (MaxPooling2 (None, 254, 254, 16)      0         \n",
            "_________________________________________________________________\n",
            "dropout_7 (Dropout)          (None, 254, 254, 16)      0         \n",
            "_________________________________________________________________\n",
            "conv2d_6 (Conv2D)            (None, 250, 250, 32)      12832     \n",
            "_________________________________________________________________\n",
            "max_pooling2d_6 (MaxPooling2 (None, 125, 125, 32)      0         \n",
            "_________________________________________________________________\n",
            "dropout_8 (Dropout)          (None, 125, 125, 32)      0         \n",
            "_________________________________________________________________\n",
            "conv2d_7 (Conv2D)            (None, 121, 121, 64)      51264     \n",
            "_________________________________________________________________\n",
            "max_pooling2d_7 (MaxPooling2 (None, 60, 60, 64)        0         \n",
            "_________________________________________________________________\n",
            "dropout_9 (Dropout)          (None, 60, 60, 64)        0         \n",
            "_________________________________________________________________\n",
            "conv2d_8 (Conv2D)            (None, 56, 56, 64)        102464    \n",
            "_________________________________________________________________\n",
            "max_pooling2d_8 (MaxPooling2 (None, 28, 28, 64)        0         \n",
            "_________________________________________________________________\n",
            "dropout_10 (Dropout)         (None, 28, 28, 64)        0         \n",
            "_________________________________________________________________\n",
            "flatten_2 (Flatten)          (None, 50176)             0         \n",
            "_________________________________________________________________\n",
            "dense_4 (Dense)              (None, 3)                 150531    \n",
            "_________________________________________________________________\n",
            "dropout_11 (Dropout)         (None, 3)                 0         \n",
            "_________________________________________________________________\n",
            "dense_5 (Dense)              (None, 3)                 12        \n",
            "_________________________________________________________________\n",
            "dropout_12 (Dropout)         (None, 3)                 0         \n",
            "_________________________________________________________________\n",
            "dense_6 (Dense)              (None, 6)                 24        \n",
            "=================================================================\n",
            "Total params: 318,343\n",
            "Trainable params: 318,343\n",
            "Non-trainable params: 0\n",
            "_________________________________________________________________\n"
          ],
          "name": "stdout"
        }
      ]
    },
    {
      "cell_type": "code",
      "metadata": {
        "id": "4tLwF4JmDNiA",
        "colab_type": "code",
        "colab": {}
      },
      "source": [
        "model.compile(optimizer='adam', loss='binary_crossentropy', metrics=['accuracy'])"
      ],
      "execution_count": 0,
      "outputs": []
    },
    {
      "cell_type": "code",
      "metadata": {
        "id": "OH5dIB__DY2r",
        "colab_type": "code",
        "outputId": "ece85e98-0910-486a-e3ce-a7b3afe03317",
        "colab": {
          "base_uri": "https://localhost:8080/",
          "height": 428
        }
      },
      "source": [
        "model.fit(X_train, y_train, epochs=10, validation_data=(X_test, y_test), batch_size=64)"
      ],
      "execution_count": 116,
      "outputs": [
        {
          "output_type": "stream",
          "text": [
            "Train on 1800 samples, validate on 200 samples\n",
            "Epoch 1/10\n",
            "1800/1800 [==============================] - 201s 112ms/step - loss: 0.7481 - accuracy: 0.8394 - val_loss: 1.4968 - val_accuracy: 0.9025\n",
            "Epoch 2/10\n",
            "1800/1800 [==============================] - 196s 109ms/step - loss: 0.7382 - accuracy: 0.8386 - val_loss: 1.4968 - val_accuracy: 0.9025\n",
            "Epoch 3/10\n",
            "1800/1800 [==============================] - 196s 109ms/step - loss: 0.7150 - accuracy: 0.8395 - val_loss: 1.4968 - val_accuracy: 0.9025\n",
            "Epoch 4/10\n",
            "1800/1800 [==============================] - 196s 109ms/step - loss: 0.6733 - accuracy: 0.8416 - val_loss: 1.4968 - val_accuracy: 0.9025\n",
            "Epoch 5/10\n",
            "1800/1800 [==============================] - 196s 109ms/step - loss: 0.7070 - accuracy: 0.8387 - val_loss: 1.4968 - val_accuracy: 0.9025\n",
            "Epoch 6/10\n",
            "1800/1800 [==============================] - 197s 109ms/step - loss: 0.7166 - accuracy: 0.8430 - val_loss: 1.4968 - val_accuracy: 0.9025\n",
            "Epoch 7/10\n",
            "1800/1800 [==============================] - 197s 109ms/step - loss: 0.6522 - accuracy: 0.8404 - val_loss: 1.4968 - val_accuracy: 0.9025\n",
            "Epoch 8/10\n",
            "1800/1800 [==============================] - 198s 110ms/step - loss: 0.6804 - accuracy: 0.8415 - val_loss: 1.4968 - val_accuracy: 0.9025\n",
            "Epoch 9/10\n",
            "1800/1800 [==============================] - 198s 110ms/step - loss: 0.6430 - accuracy: 0.8392 - val_loss: 1.4968 - val_accuracy: 0.9025\n",
            "Epoch 10/10\n",
            "1800/1800 [==============================] - 198s 110ms/step - loss: 0.6455 - accuracy: 0.8414 - val_loss: 1.4968 - val_accuracy: 0.9025\n"
          ],
          "name": "stdout"
        },
        {
          "output_type": "execute_result",
          "data": {
            "text/plain": [
              "<keras.callbacks.callbacks.History at 0x7efe72d81470>"
            ]
          },
          "metadata": {
            "tags": []
          },
          "execution_count": 116
        }
      ]
    },
    {
      "cell_type": "code",
      "metadata": {
        "id": "urXRJQtu_923",
        "colab_type": "code",
        "colab": {}
      },
      "source": [
        "model.save('85%_loss_65%_binary_sequential.h5')"
      ],
      "execution_count": 0,
      "outputs": []
    },
    {
      "cell_type": "code",
      "metadata": {
        "id": "zss5HUp9ypQm",
        "colab_type": "code",
        "colab": {}
      },
      "source": [
        "from keras.models import load_model\n",
        "test_model = tf.keras.models.load_model('85%_loss_65%_binary_sequential.h5')"
      ],
      "execution_count": 0,
      "outputs": []
    },
    {
      "cell_type": "code",
      "metadata": {
        "id": "LCRChEK8y6ct",
        "colab_type": "code",
        "colab": {
          "base_uri": "https://localhost:8080/",
          "height": 35
        },
        "outputId": "ed8eed5c-619c-4a44-a0b1-6e26a286d068"
      },
      "source": [
        "ls 85%_loss_65%_binary_sequential.h5"
      ],
      "execution_count": 149,
      "outputs": [
        {
          "output_type": "stream",
          "text": [
            "85%_loss_65%_binary_sequential.h5\n"
          ],
          "name": "stdout"
        }
      ]
    },
    {
      "cell_type": "code",
      "metadata": {
        "id": "4y38rxax3l6w",
        "colab_type": "code",
        "colab": {
          "base_uri": "https://localhost:8080/",
          "height": 799
        },
        "outputId": "c2a35481-c41b-405b-f39b-f911fc38d811"
      },
      "source": [
        "test_model.summary()"
      ],
      "execution_count": 150,
      "outputs": [
        {
          "output_type": "stream",
          "text": [
            "Model: \"sequential_2\"\n",
            "_________________________________________________________________\n",
            "Layer (type)                 Output Shape              Param #   \n",
            "=================================================================\n",
            "conv2d_5 (Conv2D)            (None, 508, 508, 16)      1216      \n",
            "_________________________________________________________________\n",
            "max_pooling2d_5 (MaxPooling2 (None, 254, 254, 16)      0         \n",
            "_________________________________________________________________\n",
            "dropout_7 (Dropout)          (None, 254, 254, 16)      0         \n",
            "_________________________________________________________________\n",
            "conv2d_6 (Conv2D)            (None, 250, 250, 32)      12832     \n",
            "_________________________________________________________________\n",
            "max_pooling2d_6 (MaxPooling2 (None, 125, 125, 32)      0         \n",
            "_________________________________________________________________\n",
            "dropout_8 (Dropout)          (None, 125, 125, 32)      0         \n",
            "_________________________________________________________________\n",
            "conv2d_7 (Conv2D)            (None, 121, 121, 64)      51264     \n",
            "_________________________________________________________________\n",
            "max_pooling2d_7 (MaxPooling2 (None, 60, 60, 64)        0         \n",
            "_________________________________________________________________\n",
            "dropout_9 (Dropout)          (None, 60, 60, 64)        0         \n",
            "_________________________________________________________________\n",
            "conv2d_8 (Conv2D)            (None, 56, 56, 64)        102464    \n",
            "_________________________________________________________________\n",
            "max_pooling2d_8 (MaxPooling2 (None, 28, 28, 64)        0         \n",
            "_________________________________________________________________\n",
            "dropout_10 (Dropout)         (None, 28, 28, 64)        0         \n",
            "_________________________________________________________________\n",
            "flatten_2 (Flatten)          (None, 50176)             0         \n",
            "_________________________________________________________________\n",
            "dense_4 (Dense)              (None, 3)                 150531    \n",
            "_________________________________________________________________\n",
            "dropout_11 (Dropout)         (None, 3)                 0         \n",
            "_________________________________________________________________\n",
            "dense_5 (Dense)              (None, 3)                 12        \n",
            "_________________________________________________________________\n",
            "dropout_12 (Dropout)         (None, 3)                 0         \n",
            "_________________________________________________________________\n",
            "dense_6 (Dense)              (None, 6)                 24        \n",
            "=================================================================\n",
            "Total params: 318,343\n",
            "Trainable params: 318,343\n",
            "Non-trainable params: 0\n",
            "_________________________________________________________________\n"
          ],
          "name": "stdout"
        }
      ]
    },
    {
      "cell_type": "markdown",
      "metadata": {
        "id": "TVK1a3uA5zpm",
        "colab_type": "text"
      },
      "source": [
        "# Load Image and Predict Probability it belongs to a class "
      ]
    },
    {
      "cell_type": "code",
      "metadata": {
        "id": "RkX37USsf3gb",
        "colab_type": "code",
        "colab": {}
      },
      "source": [
        "# Load Image and Predict Probability it belongs to a class "
      ],
      "execution_count": 0,
      "outputs": []
    },
    {
      "cell_type": "code",
      "metadata": {
        "id": "l2Bj_hcdDfgv",
        "colab_type": "code",
        "colab": {}
      },
      "source": [
        "img = image.load_img('/content/drive/My Drive/agri_vision/Agriculture-Vision/train/images/rgb/1W6YEHJJU_10032-6287-10544-6799.jpg', target_size=None)\n",
        "img = image.img_to_array(img)\n",
        "img = img/255"
      ],
      "execution_count": 0,
      "outputs": []
    },
    {
      "cell_type": "code",
      "metadata": {
        "id": "zGplOy2492y6",
        "colab_type": "code",
        "colab": {}
      },
      "source": [
        ""
      ],
      "execution_count": 0,
      "outputs": []
    },
    {
      "cell_type": "code",
      "metadata": {
        "id": "RqF-6sTwPDaz",
        "colab_type": "code",
        "outputId": "9211fa28-4ad6-45c0-b8d5-a34822f2e225",
        "colab": {
          "base_uri": "https://localhost:8080/",
          "height": 35
        }
      },
      "source": [
        "img.shape"
      ],
      "execution_count": 119,
      "outputs": [
        {
          "output_type": "execute_result",
          "data": {
            "text/plain": [
              "(512, 512, 3)"
            ]
          },
          "metadata": {
            "tags": []
          },
          "execution_count": 119
        }
      ]
    },
    {
      "cell_type": "code",
      "metadata": {
        "id": "APw6V7AeOm8A",
        "colab_type": "code",
        "outputId": "8b703450-dde9-4bf3-c0b0-89e2dae7977a",
        "colab": {
          "base_uri": "https://localhost:8080/",
          "height": 52
        }
      },
      "source": [
        "classes = np.array(train.columns[1:])\n",
        "classes"
      ],
      "execution_count": 120,
      "outputs": [
        {
          "output_type": "execute_result",
          "data": {
            "text/plain": [
              "array(['cloud_shadow', 'double_planter', 'planter_skip', 'standing_water',\n",
              "       'waterway', 'weed_cluster'], dtype=object)"
            ]
          },
          "metadata": {
            "tags": []
          },
          "execution_count": 120
        }
      ]
    },
    {
      "cell_type": "code",
      "metadata": {
        "id": "0OLD13piQCg2",
        "colab_type": "code",
        "outputId": "3653f5c1-2f95-40d5-c56d-804f47ba8cb6",
        "colab": {
          "base_uri": "https://localhost:8080/",
          "height": 52
        }
      },
      "source": [
        "proba = model.predict(img.reshape(1, 512, 512, 3))\n",
        "proba"
      ],
      "execution_count": 121,
      "outputs": [
        {
          "output_type": "execute_result",
          "data": {
            "text/plain": [
              "array([[6.5071037e-04, 1.0740142e-02, 1.7803586e-03, 5.0106314e-03,\n",
              "        2.4591589e-01, 7.3590225e-01]], dtype=float32)"
            ]
          },
          "metadata": {
            "tags": []
          },
          "execution_count": 121
        }
      ]
    },
    {
      "cell_type": "code",
      "metadata": {
        "id": "R9tHa7foQGwl",
        "colab_type": "code",
        "outputId": "37e044e2-7fb8-4327-d33a-24608329ee86",
        "colab": {
          "base_uri": "https://localhost:8080/",
          "height": 35
        }
      },
      "source": [
        "top_3 = np.argsort(proba[0])[:-4:-1]\n",
        "top_3"
      ],
      "execution_count": 122,
      "outputs": [
        {
          "output_type": "execute_result",
          "data": {
            "text/plain": [
              "array([5, 4, 1])"
            ]
          },
          "metadata": {
            "tags": []
          },
          "execution_count": 122
        }
      ]
    },
    {
      "cell_type": "code",
      "metadata": {
        "id": "9ByEipmPQJvV",
        "colab_type": "code",
        "outputId": "6ecc18e4-1e31-41ae-8982-40a9a671890d",
        "colab": {
          "base_uri": "https://localhost:8080/",
          "height": 378
        }
      },
      "source": [
        "import matplotlib.pyplot as plt\n",
        "\n",
        "for i in range(3):\n",
        "    print(\"{}\".format(classes[top_3[i]])+\" ({:.3})\".format(proba[0][top_3[i]]))\n",
        "plt.imshow(img)"
      ],
      "execution_count": 151,
      "outputs": [
        {
          "output_type": "stream",
          "text": [
            "Clipping input data to the valid range for imshow with RGB data ([0..1] for floats or [0..255] for integers).\n"
          ],
          "name": "stderr"
        },
        {
          "output_type": "stream",
          "text": [
            "weed_cluster (0.736)\n",
            "waterway (0.246)\n",
            "double_planter (0.0107)\n"
          ],
          "name": "stdout"
        },
        {
          "output_type": "execute_result",
          "data": {
            "text/plain": [
              "<matplotlib.image.AxesImage at 0x7efe7180e668>"
            ]
          },
          "metadata": {
            "tags": []
          },
          "execution_count": 151
        },
        {
          "output_type": "display_data",
          "data": {
            "image/png": "[encoded data removed]",
            "text/plain": [
              "<Figure size 432x288 with 1 Axes>"
            ]
          },
          "metadata": {
            "tags": [],
            "needs_background": "light"
          }
        }
      ]
    },
    {
      "cell_type": "code",
      "metadata": {
        "id": "0Yf3nY80d1gZ",
        "colab_type": "code",
        "colab": {
          "base_uri": "https://localhost:8080/",
          "height": 221
        },
        "outputId": "924be6f3-fce4-4ac4-b52c-f62cc137ba43"
      },
      "source": [
        "classes = np.array(train.columns[2:])\n",
        "proba = model.predict(img.reshape(1, 512, 512, 3))\n",
        "top_3 = np.argsort(proba[0])[:-4:-1]\n",
        "for i in range(3):\n",
        "    print(\"{}\".format(classes[top_3[i]])+\" ({:.3})\".format(proba[0][top_3[i]]))\n",
        "plt.imshow(img)"
      ],
      "execution_count": 69,
      "outputs": [
        {
          "output_type": "error",
          "ename": "IndexError",
          "evalue": "ignored",
          "traceback": [
            "\u001b[0;31m---------------------------------------------------------------------------\u001b[0m",
            "\u001b[0;31mIndexError\u001b[0m                                Traceback (most recent call last)",
            "\u001b[0;32m<ipython-input-69-c390b677a486>\u001b[0m in \u001b[0;36m<module>\u001b[0;34m()\u001b[0m\n\u001b[1;32m      3\u001b[0m \u001b[0mtop_3\u001b[0m \u001b[0;34m=\u001b[0m \u001b[0mnp\u001b[0m\u001b[0;34m.\u001b[0m\u001b[0margsort\u001b[0m\u001b[0;34m(\u001b[0m\u001b[0mproba\u001b[0m\u001b[0;34m[\u001b[0m\u001b[0;36m0\u001b[0m\u001b[0;34m]\u001b[0m\u001b[0;34m)\u001b[0m\u001b[0;34m[\u001b[0m\u001b[0;34m:\u001b[0m\u001b[0;34m-\u001b[0m\u001b[0;36m4\u001b[0m\u001b[0;34m:\u001b[0m\u001b[0;34m-\u001b[0m\u001b[0;36m1\u001b[0m\u001b[0;34m]\u001b[0m\u001b[0;34m\u001b[0m\u001b[0;34m\u001b[0m\u001b[0m\n\u001b[1;32m      4\u001b[0m \u001b[0;32mfor\u001b[0m \u001b[0mi\u001b[0m \u001b[0;32min\u001b[0m \u001b[0mrange\u001b[0m\u001b[0;34m(\u001b[0m\u001b[0;36m3\u001b[0m\u001b[0;34m)\u001b[0m\u001b[0;34m:\u001b[0m\u001b[0;34m\u001b[0m\u001b[0;34m\u001b[0m\u001b[0m\n\u001b[0;32m----> 5\u001b[0;31m     \u001b[0mprint\u001b[0m\u001b[0;34m(\u001b[0m\u001b[0;34m\"{}\"\u001b[0m\u001b[0;34m.\u001b[0m\u001b[0mformat\u001b[0m\u001b[0;34m(\u001b[0m\u001b[0mclasses\u001b[0m\u001b[0;34m[\u001b[0m\u001b[0mtop_3\u001b[0m\u001b[0;34m[\u001b[0m\u001b[0mi\u001b[0m\u001b[0;34m]\u001b[0m\u001b[0;34m]\u001b[0m\u001b[0;34m)\u001b[0m\u001b[0;34m+\u001b[0m\u001b[0;34m\" ({:.3})\"\u001b[0m\u001b[0;34m.\u001b[0m\u001b[0mformat\u001b[0m\u001b[0;34m(\u001b[0m\u001b[0mproba\u001b[0m\u001b[0;34m[\u001b[0m\u001b[0;36m0\u001b[0m\u001b[0;34m]\u001b[0m\u001b[0;34m[\u001b[0m\u001b[0mtop_3\u001b[0m\u001b[0;34m[\u001b[0m\u001b[0mi\u001b[0m\u001b[0;34m]\u001b[0m\u001b[0;34m]\u001b[0m\u001b[0;34m)\u001b[0m\u001b[0;34m)\u001b[0m\u001b[0;34m\u001b[0m\u001b[0;34m\u001b[0m\u001b[0m\n\u001b[0m\u001b[1;32m      6\u001b[0m \u001b[0mplt\u001b[0m\u001b[0;34m.\u001b[0m\u001b[0mimshow\u001b[0m\u001b[0;34m(\u001b[0m\u001b[0mimg\u001b[0m\u001b[0;34m)\u001b[0m\u001b[0;34m\u001b[0m\u001b[0;34m\u001b[0m\u001b[0m\n",
            "\u001b[0;31mIndexError\u001b[0m: index 5 is out of bounds for axis 0 with size 5"
          ]
        }
      ]
    },
    {
      "cell_type": "markdown",
      "metadata": {
        "id": "jO5kxT3Od3Nd",
        "colab_type": "text"
      },
      "source": [
        "# Test Data"
      ]
    },
    {
      "cell_type": "markdown",
      "metadata": {
        "id": "eDkzwYkRiDmX",
        "colab_type": "text"
      },
      "source": [
        ""
      ]
    },
    {
      "cell_type": "code",
      "metadata": {
        "id": "TCP3O9St8Emx",
        "colab_type": "code",
        "colab": {}
      },
      "source": [
        "test_index = pd.DataFrame(os.listdir(test_folder))\n",
        "test_index['index'] = test_index[0]\n",
        "\n",
        "test_index.drop(columns = 0, inplace=True)\n",
        "test_index = test_index.loc[0:199]"
      ],
      "execution_count": 0,
      "outputs": []
    },
    {
      "cell_type": "code",
      "metadata": {
        "id": "TmpLbS78-TSD",
        "colab_type": "code",
        "outputId": "855f6e4d-d992-4aab-fa16-d6385eaf0fcf",
        "colab": {
          "base_uri": "https://localhost:8080/",
          "height": 399
        }
      },
      "source": [
        "test_index"
      ],
      "execution_count": 110,
      "outputs": [
        {
          "output_type": "execute_result",
          "data": {
            "text/html": [
              "<div>\n",
              "<style scoped>\n",
              "    .dataframe tbody tr th:only-of-type {\n",
              "        vertical-align: middle;\n",
              "    }\n",
              "\n",
              "    .dataframe tbody tr th {\n",
              "        vertical-align: top;\n",
              "    }\n",
              "\n",
              "    .dataframe thead th {\n",
              "        text-align: right;\n",
              "    }\n",
              "</style>\n",
              "<table border=\"1\" class=\"dataframe\">\n",
              "  <thead>\n",
              "    <tr style=\"text-align: right;\">\n",
              "      <th></th>\n",
              "      <th>index</th>\n",
              "    </tr>\n",
              "  </thead>\n",
              "  <tbody>\n",
              "    <tr>\n",
              "      <th>0</th>\n",
              "      <td>C7CPXCQFB_818-792-1330-1304.jpg</td>\n",
              "    </tr>\n",
              "    <tr>\n",
              "      <th>1</th>\n",
              "      <td>AA6FKGHN2_2468-10654-2980-11166.jpg</td>\n",
              "    </tr>\n",
              "    <tr>\n",
              "      <th>2</th>\n",
              "      <td>TCGYUIB7I_2653-8327-3165-8839.jpg</td>\n",
              "    </tr>\n",
              "    <tr>\n",
              "      <th>3</th>\n",
              "      <td>D1M7QKGIN_3999-2721-4511-3233.jpg</td>\n",
              "    </tr>\n",
              "    <tr>\n",
              "      <th>4</th>\n",
              "      <td>AA6FKGHN2_1640-5812-2152-6324.jpg</td>\n",
              "    </tr>\n",
              "    <tr>\n",
              "      <th>...</th>\n",
              "      <td>...</td>\n",
              "    </tr>\n",
              "    <tr>\n",
              "      <th>195</th>\n",
              "      <td>MTTWHAFPN_2659-577-3171-1089.jpg</td>\n",
              "    </tr>\n",
              "    <tr>\n",
              "      <th>196</th>\n",
              "      <td>4AZJLIGYZ_7731-3019-8243-3531.jpg</td>\n",
              "    </tr>\n",
              "    <tr>\n",
              "      <th>197</th>\n",
              "      <td>2K21T1ZGV_2442-1934-2954-2446.jpg</td>\n",
              "    </tr>\n",
              "    <tr>\n",
              "      <th>198</th>\n",
              "      <td>Y6UDNUNDT_3652-2850-4164-3362.jpg</td>\n",
              "    </tr>\n",
              "    <tr>\n",
              "      <th>199</th>\n",
              "      <td>D1M7QKGIN_5130-3646-5642-4158.jpg</td>\n",
              "    </tr>\n",
              "  </tbody>\n",
              "</table>\n",
              "<p>200 rows × 1 columns</p>\n",
              "</div>"
            ],
            "text/plain": [
              "                                   index\n",
              "0        C7CPXCQFB_818-792-1330-1304.jpg\n",
              "1    AA6FKGHN2_2468-10654-2980-11166.jpg\n",
              "2      TCGYUIB7I_2653-8327-3165-8839.jpg\n",
              "3      D1M7QKGIN_3999-2721-4511-3233.jpg\n",
              "4      AA6FKGHN2_1640-5812-2152-6324.jpg\n",
              "..                                   ...\n",
              "195     MTTWHAFPN_2659-577-3171-1089.jpg\n",
              "196    4AZJLIGYZ_7731-3019-8243-3531.jpg\n",
              "197    2K21T1ZGV_2442-1934-2954-2446.jpg\n",
              "198    Y6UDNUNDT_3652-2850-4164-3362.jpg\n",
              "199    D1M7QKGIN_5130-3646-5642-4158.jpg\n",
              "\n",
              "[200 rows x 1 columns]"
            ]
          },
          "metadata": {
            "tags": []
          },
          "execution_count": 110
        }
      ]
    },
    {
      "cell_type": "code",
      "metadata": {
        "id": "Hn01kKSAQ_c7",
        "colab_type": "code",
        "outputId": "0f8bd50e-0b6c-4415-c67b-e1aea58ea4ff",
        "colab": {
          "base_uri": "https://localhost:8080/",
          "height": 674
        }
      },
      "source": [
        " \n",
        "test_image = []\n",
        "for i in tqdm(range(199)):\n",
        "    img = image.load_img('/content/drive/My Drive/agri_vision/Agriculture-Vision/test/test_rgb/' + test_index['index'][i], color_mode='rgb', target_size=None)\n",
        "    img = image.img_to_array(img)\n",
        "    test_image.append(img)\n",
        "img = image.img_to_array(test_image)"
      ],
      "execution_count": 125,
      "outputs": [
        {
          "output_type": "stream",
          "text": [
            "\n",
            "  0%|          | 0/199 [00:00<?, ?it/s]\u001b[A\n",
            "  6%|▌         | 12/199 [00:00<00:01, 116.57it/s]\u001b[A\n",
            " 13%|█▎        | 25/199 [00:00<00:01, 117.68it/s]\u001b[A\n",
            " 19%|█▊        | 37/199 [00:00<00:01, 117.64it/s]\u001b[A\n",
            " 25%|██▍       | 49/199 [00:00<00:01, 117.33it/s]\u001b[A\n",
            " 31%|███       | 61/199 [00:00<00:01, 117.23it/s]\u001b[A\n",
            " 37%|███▋      | 73/199 [00:00<00:01, 117.69it/s]\u001b[A\n",
            " 43%|████▎     | 85/199 [00:00<00:00, 117.74it/s]\u001b[A\n",
            " 49%|████▊     | 97/199 [00:00<00:00, 118.36it/s]\u001b[A\n",
            " 55%|█████▍    | 109/199 [00:00<00:00, 118.22it/s]\u001b[A\n",
            " 61%|██████    | 121/199 [00:01<00:00, 118.20it/s]\u001b[A\n",
            " 67%|██████▋   | 133/199 [00:01<00:00, 118.09it/s]\u001b[A\n",
            " 73%|███████▎  | 145/199 [00:01<00:00, 118.05it/s]\u001b[A\n",
            " 79%|███████▉  | 157/199 [00:01<00:00, 117.71it/s]\u001b[A\n",
            " 85%|████████▍ | 169/199 [00:01<00:00, 117.70it/s]\u001b[A\n",
            " 91%|█████████ | 181/199 [00:01<00:00, 116.51it/s]\u001b[A\n",
            "100%|██████████| 199/199 [00:01<00:00, 117.36it/s]\n"
          ],
          "name": "stderr"
        },
        {
          "output_type": "error",
          "ename": "ValueError",
          "evalue": "ignored",
          "traceback": [
            "\u001b[0;31m---------------------------------------------------------------------------\u001b[0m",
            "\u001b[0;31mValueError\u001b[0m                                Traceback (most recent call last)",
            "\u001b[0;32m<ipython-input-125-ff999f1620da>\u001b[0m in \u001b[0;36m<module>\u001b[0;34m()\u001b[0m\n\u001b[1;32m      5\u001b[0m    \u001b[0mimg\u001b[0m \u001b[0;34m=\u001b[0m \u001b[0mimage\u001b[0m\u001b[0;34m.\u001b[0m\u001b[0mimg_to_array\u001b[0m\u001b[0;34m(\u001b[0m\u001b[0mimg\u001b[0m\u001b[0;34m)\u001b[0m\u001b[0;34m\u001b[0m\u001b[0;34m\u001b[0m\u001b[0m\n\u001b[1;32m      6\u001b[0m    \u001b[0mtest_image\u001b[0m\u001b[0;34m.\u001b[0m\u001b[0mappend\u001b[0m\u001b[0;34m(\u001b[0m\u001b[0mimg\u001b[0m\u001b[0;34m)\u001b[0m\u001b[0;34m\u001b[0m\u001b[0;34m\u001b[0m\u001b[0m\n\u001b[0;32m----> 7\u001b[0;31m \u001b[0mimg\u001b[0m \u001b[0;34m=\u001b[0m \u001b[0mimage\u001b[0m\u001b[0;34m.\u001b[0m\u001b[0mimg_to_array\u001b[0m\u001b[0;34m(\u001b[0m\u001b[0mtest_image\u001b[0m\u001b[0;34m)\u001b[0m\u001b[0;34m\u001b[0m\u001b[0;34m\u001b[0m\u001b[0m\n\u001b[0m",
            "\u001b[0;32m/usr/local/lib/python3.6/dist-packages/keras/preprocessing/image.py\u001b[0m in \u001b[0;36mimg_to_array\u001b[0;34m(img, data_format, dtype)\u001b[0m\n\u001b[1;32m     73\u001b[0m     \u001b[0;32mif\u001b[0m \u001b[0mdtype\u001b[0m \u001b[0;32mis\u001b[0m \u001b[0;32mNone\u001b[0m\u001b[0;34m:\u001b[0m\u001b[0;34m\u001b[0m\u001b[0;34m\u001b[0m\u001b[0m\n\u001b[1;32m     74\u001b[0m         \u001b[0mdtype\u001b[0m \u001b[0;34m=\u001b[0m \u001b[0mbackend\u001b[0m\u001b[0;34m.\u001b[0m\u001b[0mfloatx\u001b[0m\u001b[0;34m(\u001b[0m\u001b[0;34m)\u001b[0m\u001b[0;34m\u001b[0m\u001b[0;34m\u001b[0m\u001b[0m\n\u001b[0;32m---> 75\u001b[0;31m     \u001b[0;32mreturn\u001b[0m \u001b[0mimage\u001b[0m\u001b[0;34m.\u001b[0m\u001b[0mimg_to_array\u001b[0m\u001b[0;34m(\u001b[0m\u001b[0mimg\u001b[0m\u001b[0;34m,\u001b[0m \u001b[0mdata_format\u001b[0m\u001b[0;34m=\u001b[0m\u001b[0mdata_format\u001b[0m\u001b[0;34m,\u001b[0m \u001b[0mdtype\u001b[0m\u001b[0;34m=\u001b[0m\u001b[0mdtype\u001b[0m\u001b[0;34m)\u001b[0m\u001b[0;34m\u001b[0m\u001b[0;34m\u001b[0m\u001b[0m\n\u001b[0m\u001b[1;32m     76\u001b[0m \u001b[0;34m\u001b[0m\u001b[0m\n\u001b[1;32m     77\u001b[0m \u001b[0;34m\u001b[0m\u001b[0m\n",
            "\u001b[0;32m/usr/local/lib/python3.6/dist-packages/keras_preprocessing/image/utils.py\u001b[0m in \u001b[0;36mimg_to_array\u001b[0;34m(img, data_format, dtype)\u001b[0m\n\u001b[1;32m    307\u001b[0m             \u001b[0mx\u001b[0m \u001b[0;34m=\u001b[0m \u001b[0mx\u001b[0m\u001b[0;34m.\u001b[0m\u001b[0mreshape\u001b[0m\u001b[0;34m(\u001b[0m\u001b[0;34m(\u001b[0m\u001b[0mx\u001b[0m\u001b[0;34m.\u001b[0m\u001b[0mshape\u001b[0m\u001b[0;34m[\u001b[0m\u001b[0;36m0\u001b[0m\u001b[0;34m]\u001b[0m\u001b[0;34m,\u001b[0m \u001b[0mx\u001b[0m\u001b[0;34m.\u001b[0m\u001b[0mshape\u001b[0m\u001b[0;34m[\u001b[0m\u001b[0;36m1\u001b[0m\u001b[0;34m]\u001b[0m\u001b[0;34m,\u001b[0m \u001b[0;36m1\u001b[0m\u001b[0;34m)\u001b[0m\u001b[0;34m)\u001b[0m\u001b[0;34m\u001b[0m\u001b[0;34m\u001b[0m\u001b[0m\n\u001b[1;32m    308\u001b[0m     \u001b[0;32melse\u001b[0m\u001b[0;34m:\u001b[0m\u001b[0;34m\u001b[0m\u001b[0;34m\u001b[0m\u001b[0m\n\u001b[0;32m--> 309\u001b[0;31m         \u001b[0;32mraise\u001b[0m \u001b[0mValueError\u001b[0m\u001b[0;34m(\u001b[0m\u001b[0;34m'Unsupported image shape: %s'\u001b[0m \u001b[0;34m%\u001b[0m \u001b[0;34m(\u001b[0m\u001b[0mx\u001b[0m\u001b[0;34m.\u001b[0m\u001b[0mshape\u001b[0m\u001b[0;34m,\u001b[0m\u001b[0;34m)\u001b[0m\u001b[0;34m)\u001b[0m\u001b[0;34m\u001b[0m\u001b[0;34m\u001b[0m\u001b[0m\n\u001b[0m\u001b[1;32m    310\u001b[0m     \u001b[0;32mreturn\u001b[0m \u001b[0mx\u001b[0m\u001b[0;34m\u001b[0m\u001b[0;34m\u001b[0m\u001b[0m\n",
            "\u001b[0;31mValueError\u001b[0m: Unsupported image shape: (199, 512, 512, 3)"
          ]
        }
      ]
    },
    {
      "cell_type": "code",
      "metadata": {
        "id": "hfgkPHLU3Y2v",
        "colab_type": "code",
        "colab": {}
      },
      "source": [
        " test_index = pd.DataFrame(os.listdir(test_folder))\n"
      ],
      "execution_count": 0,
      "outputs": []
    },
    {
      "cell_type": "code",
      "metadata": {
        "id": "tsrRX2XH4CV7",
        "colab_type": "code",
        "colab": {}
      },
      "source": [
        "img = image.load_img('/content/drive/My Drive/agri_vision/Agriculture-Vision/test/test_rgb/' + test_index['index'][i], color_mode='rgb', target_size=None)"
      ],
      "execution_count": 0,
      "outputs": []
    },
    {
      "cell_type": "code",
      "metadata": {
        "id": "k1JBgWw26z76",
        "colab_type": "code",
        "colab": {}
      },
      "source": [
        "for i in tqdm(range(199)):\n",
        "    img = image.load_img('/content/drive/My Drive/agri_vision/Agriculture-Vision/test/test_rgb/' + test_index['index'][i], color_mode='rgb', target_size=None)"
      ],
      "execution_count": 0,
      "outputs": []
    },
    {
      "cell_type": "code",
      "metadata": {
        "id": "Vu1ugq879aBo",
        "colab_type": "code",
        "colab": {}
      },
      "source": [
        "img = image.img_to_array(img)"
      ],
      "execution_count": 0,
      "outputs": []
    },
    {
      "cell_type": "code",
      "metadata": {
        "id": "1V4taPCU9hHr",
        "colab_type": "code",
        "colab": {}
      },
      "source": [
        "test_image.append(img)"
      ],
      "execution_count": 0,
      "outputs": []
    },
    {
      "cell_type": "code",
      "metadata": {
        "id": "ARLKBbRG9xrV",
        "colab_type": "code",
        "colab": {}
      },
      "source": [
        "test_x = np.array(test_image)"
      ],
      "execution_count": 0,
      "outputs": []
    },
    {
      "cell_type": "code",
      "metadata": {
        "id": "GwN8LwQm95Vf",
        "colab_type": "code",
        "colab": {}
      },
      "source": [
        "model.predict(test_x)"
      ],
      "execution_count": 0,
      "outputs": []
    },
    {
      "cell_type": "code",
      "metadata": {
        "id": "imfsfrVE_s-t",
        "colab_type": "code",
        "colab": {}
      },
      "source": [
        ""
      ],
      "execution_count": 0,
      "outputs": []
    },
    {
      "cell_type": "markdown",
      "metadata": {
        "id": "5cZijHLN5gWS",
        "colab_type": "text"
      },
      "source": [
        "# save model"
      ]
    },
    {
      "cell_type": "code",
      "metadata": {
        "id": "UC--MM7J5hkB",
        "colab_type": "code",
        "colab": {}
      },
      "source": [
        "import os\n",
        "\n",
        "import tensorflow as tf\n",
        "from tensorflow import keras"
      ],
      "execution_count": 0,
      "outputs": []
    },
    {
      "cell_type": "code",
      "metadata": {
        "id": "_fZSmfEm5j5C",
        "colab_type": "code",
        "colab": {
          "base_uri": "https://localhost:8080/",
          "height": 168
        },
        "outputId": "bab09e79-81f6-4841-ff91-e14c0c2c82e4"
      },
      "source": [
        "model = create_model()"
      ],
      "execution_count": 139,
      "outputs": [
        {
          "output_type": "error",
          "ename": "NameError",
          "evalue": "ignored",
          "traceback": [
            "\u001b[0;31m---------------------------------------------------------------------------\u001b[0m",
            "\u001b[0;31mNameError\u001b[0m                                 Traceback (most recent call last)",
            "\u001b[0;32m<ipython-input-139-834f03506210>\u001b[0m in \u001b[0;36m<module>\u001b[0;34m()\u001b[0m\n\u001b[0;32m----> 1\u001b[0;31m \u001b[0mmodel\u001b[0m \u001b[0;34m=\u001b[0m \u001b[0mcreate_model\u001b[0m\u001b[0;34m(\u001b[0m\u001b[0;34m)\u001b[0m\u001b[0;34m\u001b[0m\u001b[0;34m\u001b[0m\u001b[0m\n\u001b[0m",
            "\u001b[0;31mNameError\u001b[0m: name 'create_model' is not defined"
          ]
        }
      ]
    },
    {
      "cell_type": "code",
      "metadata": {
        "id": "CW17nam46BeK",
        "colab_type": "code",
        "colab": {}
      },
      "source": [
        ""
      ],
      "execution_count": 0,
      "outputs": []
    }
  ]
}
